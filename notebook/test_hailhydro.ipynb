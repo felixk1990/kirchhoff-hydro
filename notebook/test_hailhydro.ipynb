{
 "cells": [
  {
   "cell_type": "code",
   "execution_count": 1,
   "metadata": {},
   "outputs": [],
   "source": [
    "import networkx as nx\n",
    "import numpy as np\n",
    "# import kirchhoff.circuit_flow as kfc\n",
    "import sys\n",
    "sys.path.insert(0,'../')\n",
    "sys.path.insert(0,'../hailhydro')\n",
    "sys.path.insert(0,'../../kirchhoff-circuits/')\n",
    "sys.path.insert(0,'../../kirchhoff-circuits/kirchhoff')"
   ]
  },
  {
   "cell_type": "code",
   "execution_count": 2,
   "metadata": {},
   "outputs": [],
   "source": [
    "import hailhydro.flow_init as hf\n",
    "circuit=kfc.initialize_flow_circuit_from_crystal('simple',3)\n",
    "flow=hf.initialize_flow_on_circuit(circuit)"
   ]
  },
  {
   "cell_type": "code",
   "execution_count": 3,
   "metadata": {},
   "outputs": [],
   "source": [
    "import hailhydro.flow_random as hfr\n",
    "circuit=kfc.initialize_flow_circuit_from_crystal('simple',3)\n",
    "circuit.set_source_landscape('root_multi',num_sources=1)\n",
    "circuit.set_plexus_landscape()\n",
    "\n",
    "random_flow=hfr.initialize_random_flow_on_circuit(circuit)\n",
    "dp_sq,q_sq=random_flow.calc_sq_flow_effective(circuit.edges['conductivity'])"
   ]
  },
  {
   "cell_type": "code",
   "execution_count": 4,
   "metadata": {},
   "outputs": [],
   "source": [
    "import hailhydro.flow_random as hfr\n",
    "import random as rd\n",
    "circuit=kfc.initialize_flow_circuit_from_crystal('simple',3)\n",
    "circuit.set_source_landscape('root_multi',num_sources=1)\n",
    "\n",
    "rerouting_flow=hfr.initialize_rerouting_flow_on_circuit(circuit)\n",
    "avg=rerouting_flow.calc_sq_flow_avg(circuit.edges['conductivity'])"
   ]
  },
  {
   "cell_type": "code",
   "execution_count": 5,
   "metadata": {},
   "outputs": [
    {
     "name": "stdout",
     "output_type": "stream",
     "text": [
      "circuit(): initialized and ready for (some) action :)\n",
      "set networkx.spring_layout()\n",
      "set_source_landscape():  is set and consistent :)\n"
     ]
    }
   ],
   "source": [
    "import hailhydro.flux_init as hfx\n",
    "import hailhydro.flux_overflow as ho\n",
    "import hailhydro.flux_random_overflow as hro\n",
    "import kirchhoff.circuit_flux as kfx\n",
    "n=2\n",
    "pars={\n",
    "    'plexus':nx.grid_graph(( n,n,1)),\n",
    "    'absorption':0.1,\n",
    "    'diffusion':1.\n",
    "}\n",
    "circuit=kfx.setup_default_flux_circuit(pars)\n",
    "flux=hfx.initialize_flux_on_circuit(circuit)\n",
    "overflow=hro.initialize_overflow_on_circuit(circuit)"
   ]
  },
  {
   "cell_type": "code",
   "execution_count": 6,
   "metadata": {},
   "outputs": [
    {
     "data": {
      "text/plain": [
       "array([[ 0.00173374, -0.00123536, -0.00337289, -0.00621067],\n",
       "       [-0.0043082 ,  0.00587932, -0.01796702, -0.01179514],\n",
       "       [ 0.00148213, -0.00153276,  0.02854335,  0.0040663 ],\n",
       "       [ 0.00147396, -0.00133107, -0.00367323,  0.01558174]])"
      ]
     },
     "execution_count": 6,
     "metadata": {},
     "output_type": "execute_result"
    }
   ],
   "source": [
    "overflow.calc_profile_concentration()\n",
    "overflow.calc_absorption()\n",
    "overflow.calc_absorption_jacobian()"
   ]
  },
  {
   "cell_type": "code",
   "execution_count": null,
   "metadata": {},
   "outputs": [],
   "source": []
  },
  {
   "cell_type": "code",
   "execution_count": null,
   "metadata": {},
   "outputs": [],
   "source": []
  }
 ],
 "metadata": {
  "kernelspec": {
   "display_name": "Python 3",
   "language": "python",
   "name": "python3"
  },
  "language_info": {
   "codemirror_mode": {
    "name": "ipython",
    "version": 3
   },
   "file_extension": ".py",
   "mimetype": "text/x-python",
   "name": "python",
   "nbconvert_exporter": "python",
   "pygments_lexer": "ipython3",
   "version": "3.7.9"
  }
 },
 "nbformat": 4,
 "nbformat_minor": 4
}
