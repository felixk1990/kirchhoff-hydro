{
 "cells": [
  {
   "cell_type": "code",
   "execution_count": 1,
   "metadata": {},
   "outputs": [],
   "source": [
    "import networkx as nx\n",
    "import numpy as np\n",
    "import kirchhoff.circuit_flow as kfc"
   ]
  },
  {
   "cell_type": "code",
   "execution_count": 8,
   "metadata": {},
   "outputs": [
    {
     "name": "stdout",
     "output_type": "stream",
     "text": [
      "circuit(): initialized and ready for (some) action :)\n",
      "set_source_landscape():  is set and consistent :)\n",
      "set_plexus_landscape(): default is set and consistent :)\n",
      "[ 5.78112720e-01  5.92647181e-01 -1.70759901e-01  8.43583361e-01\n",
      "  2.42783685e-03  7.32101522e-01  8.18123870e-01 -3.37456404e-02\n",
      "  8.08268952e-01  4.37070416e-01  1.24909368e+00  9.75543133e-01\n",
      "  7.63467816e-01  4.53537495e-01 -3.87765212e-01  1.33703196e+00\n",
      "  1.07817776e+00 -6.49314066e-01  1.07893007e+00  9.24317483e-01\n",
      " -5.83455697e-01  2.92534493e+00  1.99095560e+00 -1.06326809e+00\n",
      "  1.31985987e+00  3.49675978e-01  6.25656707e-02  1.62768124e+00\n",
      " -4.23544596e-01  2.36481691e+00  3.61055818e+00 -3.68518265e-01\n",
      " -8.14186177e-01 -1.85631431e+00  1.35216788e+01 -2.50178010e+00\n",
      "  1.07907054e+00 -1.65048707e-02  3.05043879e-01  1.35048207e+00\n",
      "  1.41228573e+00 -7.97308863e-01  2.18615718e+00 -1.32514189e+00\n",
      "  1.71613055e+00 -5.35440044e-02  1.45682411e-01  1.26769670e+00\n",
      "  2.71519193e+00 -2.91214954e-01  2.46612419e+00  7.99639198e-02\n",
      " -6.75314634e-01  1.05302449e+01 -1.41963133e+00 -2.38583713e+00\n",
      "  8.00251456e+00 -7.54495961e-01 -1.16800975e+00 -8.92686966e+00\n",
      " -1.05762556e+01 -1.14424365e+01  1.89800592e+00 -3.02019816e-01\n",
      " -1.60870540e+00 -2.23400115e+00  1.23798692e+00 -9.23045083e-02\n",
      "  2.88786976e-01  1.65798499e+00  1.70810678e+00 -7.20447366e-01\n",
      "  2.71290948e+00 -1.13564706e+00  1.68142495e+00 -1.91449713e-01\n",
      " -1.55508336e+00 -3.62683777e+00  5.06530471e-01 -1.65725829e+00\n",
      "  4.92893046e-01  4.09557583e-01 -2.90215842e-01  8.98913653e-01\n",
      "  4.33552985e-01 -4.88887658e-01  6.18461001e-01  5.90844185e-01\n",
      " -3.83203300e-01  9.34200693e-01  1.15347959e+00 -6.33573718e-01\n",
      "  9.61018743e-01  2.37491021e-01 -5.79142956e-01 -3.42721302e-01\n",
      "  2.08753078e+00 -1.35137014e+00  9.42187517e-01 -5.02005360e-01\n",
      "  1.20773299e+00 -9.33408664e-01  1.26578995e+00  1.01192700e-01\n",
      " -4.51453099e-01  2.79299764e+00 -1.87259996e-01 -1.57230523e+00\n",
      " -1.27610518e+00 -1.07825197e+00 -3.20755096e+00  2.96469609e-02\n",
      " -1.33202030e+00  8.77610787e-01 -4.96865452e-01  1.54937714e+00\n",
      " -9.94673402e-01 -5.31597972e-01 -1.62411463e+00 -1.15920930e+00\n",
      "  3.13891346e-01  3.95892812e-01  4.64753716e-01  3.60249972e-01\n",
      "  4.93992688e-01  5.18696824e-01  6.81025229e-01  6.44147457e-01\n",
      "  6.08987938e-01  1.72119078e-01 -1.07964455e-01  1.04660749e+00\n",
      "  6.70113718e-01  6.28740599e-01  8.62656088e-01  2.04587637e-01\n",
      "  9.05075392e-01  2.94229270e-02 -1.79873709e-01 -7.59943687e-02\n",
      "  1.16846589e-01  7.07722185e-01  7.42471710e-01  4.23627084e-02]\n"
     ]
    }
   ],
   "source": [
    "import hailhydro.flow_init as hf\n",
    "circuit=kfc.initialize_flow_circuit_from_crystal('simple',3)\n",
    "circuit.set_source_landscape()\n",
    "circuit.set_plexus_landscape()\n",
    "\n",
    "flow=hf.initialize_flow_on_circuit(circuit)\n",
    "q=flow.calc_configuration_flow()"
   ]
  },
  {
   "cell_type": "code",
   "execution_count": 3,
   "metadata": {},
   "outputs": [
    {
     "name": "stdout",
     "output_type": "stream",
     "text": [
      "circuit(): initialized and ready for (some) action :)\n",
      "set_source_landscape():  is set and consistent :)\n",
      "set_plexus_landscape(): default is set and consistent :)\n"
     ]
    }
   ],
   "source": [
    "import hailhydro.flow_random as hfr\n",
    "circuit=kfc.initialize_flow_circuit_from_crystal('simple',3)\n",
    "circuit.set_source_landscape('root_multi',num_sources=1)\n",
    "circuit.set_plexus_landscape()\n",
    "\n",
    "random_flow=hfr.initialize_random_flow_on_circuit(circuit)\n",
    "dp_sq,q_sq=random_flow.calc_sq_flow_effective(circuit.edges['conductivity'])"
   ]
  },
  {
   "cell_type": "code",
   "execution_count": 4,
   "metadata": {},
   "outputs": [
    {
     "name": "stdout",
     "output_type": "stream",
     "text": [
      "circuit(): initialized and ready for (some) action :)\n",
      "set_source_landscape():  is set and consistent :)\n"
     ]
    }
   ],
   "source": [
    "import hailhydro.flow_random as hfr\n",
    "import random as rd\n",
    "circuit=kfc.initialize_flow_circuit_from_crystal('simple',3)\n",
    "circuit.set_source_landscape('root_multi',num_sources=1)\n",
    "\n",
    "rerouting_flow=hfr.initialize_rerouting_flow_on_circuit(circuit)\n",
    "avg=rerouting_flow.calc_sq_flow_avg(circuit.edges['conductivity'])"
   ]
  },
  {
   "cell_type": "code",
   "execution_count": 5,
   "metadata": {},
   "outputs": [
    {
     "name": "stdout",
     "output_type": "stream",
     "text": [
      "circuit(): initialized and ready for (some) action :)\n",
      "set networkx.spring_layout()\n",
      "set_source_landscape():  is set and consistent :)\n"
     ]
    }
   ],
   "source": [
    "import hailhydro.flux_init as hfx\n",
    "import hailhydro.flux_overflow as ho\n",
    "import hailhydro.flux_random_overflow as hro\n",
    "import kirchhoff.circuit_flux as kfx\n",
    "n=2\n",
    "pars={\n",
    "    'plexus':nx.grid_graph(( n,n,1)),\n",
    "    'absorption':0.1,\n",
    "    'diffusion':1.\n",
    "}\n",
    "circuit=kfx.setup_default_flux_circuit(pars)\n",
    "flux=hfx.initialize_flux_on_circuit(circuit)\n",
    "overflow=hro.initialize_overflow_on_circuit(circuit)"
   ]
  },
  {
   "cell_type": "code",
   "execution_count": 6,
   "metadata": {},
   "outputs": [
    {
     "ename": "LinAlgError",
     "evalue": "Singular matrix",
     "output_type": "error",
     "traceback": [
      "\u001b[0;31m---------------------------------------------------------------------------\u001b[0m",
      "\u001b[0;31mLinAlgError\u001b[0m                               Traceback (most recent call last)",
      "\u001b[0;32m<ipython-input-6-f973540e985b>\u001b[0m in \u001b[0;36m<module>\u001b[0;34m\u001b[0m\n\u001b[0;32m----> 1\u001b[0;31m \u001b[0moverflow\u001b[0m\u001b[0;34m.\u001b[0m\u001b[0mcalc_profile_concentration\u001b[0m\u001b[0;34m(\u001b[0m\u001b[0;34m)\u001b[0m\u001b[0;34m\u001b[0m\u001b[0;34m\u001b[0m\u001b[0m\n\u001b[0m\u001b[1;32m      2\u001b[0m \u001b[0moverflow\u001b[0m\u001b[0;34m.\u001b[0m\u001b[0mcalc_absorption\u001b[0m\u001b[0;34m(\u001b[0m\u001b[0;34m)\u001b[0m\u001b[0;34m\u001b[0m\u001b[0;34m\u001b[0m\u001b[0m\n\u001b[1;32m      3\u001b[0m \u001b[0moverflow\u001b[0m\u001b[0;34m.\u001b[0m\u001b[0mcalc_absorption_jacobian\u001b[0m\u001b[0;34m(\u001b[0m\u001b[0;34m)\u001b[0m\u001b[0;34m\u001b[0m\u001b[0;34m\u001b[0m\u001b[0m\n",
      "\u001b[0;32m~/anaconda3/lib/python3.7/site-packages/hailhydro/flux_overflow.py\u001b[0m in \u001b[0;36mcalc_profile_concentration\u001b[0;34m(self)\u001b[0m\n\u001b[1;32m     30\u001b[0m \u001b[0;34m\u001b[0m\u001b[0m\n\u001b[1;32m     31\u001b[0m         \u001b[0mself\u001b[0m\u001b[0;34m.\u001b[0m\u001b[0mupdate_transport_matrix\u001b[0m\u001b[0;34m(\u001b[0m\u001b[0;34m)\u001b[0m\u001b[0;34m\u001b[0m\u001b[0;34m\u001b[0m\u001b[0m\n\u001b[0;32m---> 32\u001b[0;31m         \u001b[0mc\u001b[0m\u001b[0;34m,\u001b[0m\u001b[0mB_new\u001b[0m\u001b[0;34m=\u001b[0m\u001b[0mself\u001b[0m\u001b[0;34m.\u001b[0m\u001b[0msolve_absorbing_boundary\u001b[0m\u001b[0;34m(\u001b[0m\u001b[0;34m)\u001b[0m\u001b[0;34m\u001b[0m\u001b[0;34m\u001b[0m\u001b[0m\n\u001b[0m\u001b[1;32m     33\u001b[0m \u001b[0;34m\u001b[0m\u001b[0m\n\u001b[1;32m     34\u001b[0m         \u001b[0;32mreturn\u001b[0m \u001b[0mc\u001b[0m\u001b[0;34m,\u001b[0m\u001b[0mB_new\u001b[0m\u001b[0;34m\u001b[0m\u001b[0;34m\u001b[0m\u001b[0m\n",
      "\u001b[0;32m~/anaconda3/lib/python3.7/site-packages/hailhydro/flux_overflow.py\u001b[0m in \u001b[0;36msolve_absorbing_boundary\u001b[0;34m(self)\u001b[0m\n\u001b[1;32m     42\u001b[0m         \u001b[0mconcentration\u001b[0m\u001b[0;34m=\u001b[0m\u001b[0mnp\u001b[0m\u001b[0;34m.\u001b[0m\u001b[0mzeros\u001b[0m\u001b[0;34m(\u001b[0m\u001b[0mself\u001b[0m\u001b[0;34m.\u001b[0m\u001b[0mN\u001b[0m\u001b[0;34m)\u001b[0m\u001b[0;34m\u001b[0m\u001b[0;34m\u001b[0m\u001b[0m\n\u001b[1;32m     43\u001b[0m         \u001b[0;31m# solving inverse flux problem for absorbing boundaries\u001b[0m\u001b[0;34m\u001b[0m\u001b[0;34m\u001b[0m\u001b[0;34m\u001b[0m\u001b[0m\n\u001b[0;32m---> 44\u001b[0;31m         \u001b[0mconcentration_reduced\u001b[0m\u001b[0;34m=\u001b[0m\u001b[0mnp\u001b[0m\u001b[0;34m.\u001b[0m\u001b[0mdot\u001b[0m\u001b[0;34m(\u001b[0m\u001b[0mnp\u001b[0m\u001b[0;34m.\u001b[0m\u001b[0mlinalg\u001b[0m\u001b[0;34m.\u001b[0m\u001b[0minv\u001b[0m\u001b[0;34m(\u001b[0m\u001b[0mB_new\u001b[0m\u001b[0;34m)\u001b[0m\u001b[0;34m,\u001b[0m\u001b[0mS\u001b[0m\u001b[0;34m)\u001b[0m\u001b[0;34m\u001b[0m\u001b[0;34m\u001b[0m\u001b[0m\n\u001b[0m\u001b[1;32m     45\u001b[0m         \u001b[0mconcentration\u001b[0m\u001b[0;34m[\u001b[0m\u001b[0mself\u001b[0m\u001b[0;34m.\u001b[0m\u001b[0midx_eff\u001b[0m\u001b[0;34m]\u001b[0m\u001b[0;34m=\u001b[0m\u001b[0mconcentration_reduced\u001b[0m\u001b[0;34m[\u001b[0m\u001b[0;34m:\u001b[0m\u001b[0;34m]\u001b[0m\u001b[0;34m\u001b[0m\u001b[0;34m\u001b[0m\u001b[0m\n\u001b[1;32m     46\u001b[0m \u001b[0;34m\u001b[0m\u001b[0m\n",
      "\u001b[0;32m<__array_function__ internals>\u001b[0m in \u001b[0;36minv\u001b[0;34m(*args, **kwargs)\u001b[0m\n",
      "\u001b[0;32m~/anaconda3/lib/python3.7/site-packages/numpy/linalg/linalg.py\u001b[0m in \u001b[0;36minv\u001b[0;34m(a)\u001b[0m\n\u001b[1;32m    544\u001b[0m     \u001b[0msignature\u001b[0m \u001b[0;34m=\u001b[0m \u001b[0;34m'D->D'\u001b[0m \u001b[0;32mif\u001b[0m \u001b[0misComplexType\u001b[0m\u001b[0;34m(\u001b[0m\u001b[0mt\u001b[0m\u001b[0;34m)\u001b[0m \u001b[0;32melse\u001b[0m \u001b[0;34m'd->d'\u001b[0m\u001b[0;34m\u001b[0m\u001b[0;34m\u001b[0m\u001b[0m\n\u001b[1;32m    545\u001b[0m     \u001b[0mextobj\u001b[0m \u001b[0;34m=\u001b[0m \u001b[0mget_linalg_error_extobj\u001b[0m\u001b[0;34m(\u001b[0m\u001b[0m_raise_linalgerror_singular\u001b[0m\u001b[0;34m)\u001b[0m\u001b[0;34m\u001b[0m\u001b[0;34m\u001b[0m\u001b[0m\n\u001b[0;32m--> 546\u001b[0;31m     \u001b[0mainv\u001b[0m \u001b[0;34m=\u001b[0m \u001b[0m_umath_linalg\u001b[0m\u001b[0;34m.\u001b[0m\u001b[0minv\u001b[0m\u001b[0;34m(\u001b[0m\u001b[0ma\u001b[0m\u001b[0;34m,\u001b[0m \u001b[0msignature\u001b[0m\u001b[0;34m=\u001b[0m\u001b[0msignature\u001b[0m\u001b[0;34m,\u001b[0m \u001b[0mextobj\u001b[0m\u001b[0;34m=\u001b[0m\u001b[0mextobj\u001b[0m\u001b[0;34m)\u001b[0m\u001b[0;34m\u001b[0m\u001b[0;34m\u001b[0m\u001b[0m\n\u001b[0m\u001b[1;32m    547\u001b[0m     \u001b[0;32mreturn\u001b[0m \u001b[0mwrap\u001b[0m\u001b[0;34m(\u001b[0m\u001b[0mainv\u001b[0m\u001b[0;34m.\u001b[0m\u001b[0mastype\u001b[0m\u001b[0;34m(\u001b[0m\u001b[0mresult_t\u001b[0m\u001b[0;34m,\u001b[0m \u001b[0mcopy\u001b[0m\u001b[0;34m=\u001b[0m\u001b[0;32mFalse\u001b[0m\u001b[0;34m)\u001b[0m\u001b[0;34m)\u001b[0m\u001b[0;34m\u001b[0m\u001b[0;34m\u001b[0m\u001b[0m\n\u001b[1;32m    548\u001b[0m \u001b[0;34m\u001b[0m\u001b[0m\n",
      "\u001b[0;32m~/anaconda3/lib/python3.7/site-packages/numpy/linalg/linalg.py\u001b[0m in \u001b[0;36m_raise_linalgerror_singular\u001b[0;34m(err, flag)\u001b[0m\n\u001b[1;32m     86\u001b[0m \u001b[0;34m\u001b[0m\u001b[0m\n\u001b[1;32m     87\u001b[0m \u001b[0;32mdef\u001b[0m \u001b[0m_raise_linalgerror_singular\u001b[0m\u001b[0;34m(\u001b[0m\u001b[0merr\u001b[0m\u001b[0;34m,\u001b[0m \u001b[0mflag\u001b[0m\u001b[0;34m)\u001b[0m\u001b[0;34m:\u001b[0m\u001b[0;34m\u001b[0m\u001b[0;34m\u001b[0m\u001b[0m\n\u001b[0;32m---> 88\u001b[0;31m     \u001b[0;32mraise\u001b[0m \u001b[0mLinAlgError\u001b[0m\u001b[0;34m(\u001b[0m\u001b[0;34m\"Singular matrix\"\u001b[0m\u001b[0;34m)\u001b[0m\u001b[0;34m\u001b[0m\u001b[0;34m\u001b[0m\u001b[0m\n\u001b[0m\u001b[1;32m     89\u001b[0m \u001b[0;34m\u001b[0m\u001b[0m\n\u001b[1;32m     90\u001b[0m \u001b[0;32mdef\u001b[0m \u001b[0m_raise_linalgerror_nonposdef\u001b[0m\u001b[0;34m(\u001b[0m\u001b[0merr\u001b[0m\u001b[0;34m,\u001b[0m \u001b[0mflag\u001b[0m\u001b[0;34m)\u001b[0m\u001b[0;34m:\u001b[0m\u001b[0;34m\u001b[0m\u001b[0;34m\u001b[0m\u001b[0m\n",
      "\u001b[0;31mLinAlgError\u001b[0m: Singular matrix"
     ]
    }
   ],
   "source": [
    "overflow.calc_profile_concentration()\n",
    "overflow.calc_absorption()\n",
    "overflow.calc_absorption_jacobian()"
   ]
  },
  {
   "cell_type": "code",
   "execution_count": null,
   "metadata": {},
   "outputs": [],
   "source": []
  },
  {
   "cell_type": "code",
   "execution_count": null,
   "metadata": {},
   "outputs": [],
   "source": []
  }
 ],
 "metadata": {
  "kernelspec": {
   "display_name": "Python 3",
   "language": "python",
   "name": "python3"
  },
  "language_info": {
   "codemirror_mode": {
    "name": "ipython",
    "version": 3
   },
   "file_extension": ".py",
   "mimetype": "text/x-python",
   "name": "python",
   "nbconvert_exporter": "python",
   "pygments_lexer": "ipython3",
   "version": "3.7.3"
  }
 },
 "nbformat": 4,
 "nbformat_minor": 4
}
