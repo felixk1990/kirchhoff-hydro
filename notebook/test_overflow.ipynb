{
 "cells": [
  {
   "cell_type": "code",
   "execution_count": 1,
   "metadata": {},
   "outputs": [],
   "source": [
    "import networkx as nx\n",
    "import numpy as np\n",
    "import sys\n",
    "sys.path.insert(0,'../')\n",
    "sys.path.insert(0,'../hailhydro')\n",
    "sys.path.insert(0,'../../kirchhoff-circuits/')\n",
    "sys.path.insert(0,'../../kirchhoff-circuits/kirchhoff')"
   ]
  },
  {
   "cell_type": "code",
   "execution_count": 2,
   "metadata": {},
   "outputs": [
    {
     "name": "stdout",
     "output_type": "stream",
     "text": [
      "circuit(): initialized and ready for (some) action :)\n",
      "set networkx.spring_layout()\n",
      "set_source_landscape():  is set and consistent :)\n"
     ]
    }
   ],
   "source": [
    "import hailhydro.flux_overflow as ho\n",
    "import kirchhoff.circuit_flux as kfx\n",
    "\n",
    "n=10\n",
    "m=1\n",
    "pars={\n",
    "    'plexus':nx.grid_graph(( m,n,1)),\n",
    "    'absorption':0.1,\n",
    "    'diffusion':1.\n",
    "}\n",
    "circuit=kfx.setup_default_flux_circuit(pars)\n",
    "overflow=ho.initialize_overflow_on_circuit(circuit)\n",
    "overflow.calc_profile_concentration()\n",
    "\n",
    "c=overflow.get_concentrations_from_nodes()\n",
    "phi=overflow.calc_absorption()"
   ]
  },
  {
   "cell_type": "code",
   "execution_count": null,
   "metadata": {},
   "outputs": [],
   "source": []
  },
  {
   "cell_type": "markdown",
   "metadata": {},
   "source": [
    "add"
   ]
  },
  {
   "cell_type": "code",
   "execution_count": 7,
   "metadata": {},
   "outputs": [
    {
     "name": "stdout",
     "output_type": "stream",
     "text": [
      "[0.67308048 0.55944198 0.41971404 0.23999655 0.         0.\n",
      " 0.         0.         0.         0.        ]\n"
     ]
    },
    {
     "data": {
      "text/plain": [
       "<matplotlib.collections.PathCollection at 0x7ffcf10cccf8>"
      ]
     },
     "execution_count": 7,
     "metadata": {},
     "output_type": "execute_result"
    },
    {
     "data": {
      "image/png": "[encoded data removed]",
      "text/plain": [
       "<Figure size 432x288 with 1 Axes>"
      ]
     },
     "metadata": {
      "needs_background": "light"
     },
     "output_type": "display_data"
    }
   ],
   "source": [
    "import matplotlib.pyplot as plt\n",
    "print(c)\n",
    "plt.scatter(overflow.circuit.list_graph_nodes,c)"
   ]
  },
  {
   "cell_type": "code",
   "execution_count": 11,
   "metadata": {},
   "outputs": [
    {
     "name": "stdout",
     "output_type": "stream",
     "text": [
      "0    0.048536\n",
      "1    0.038661\n",
      "2    0.026226\n",
      "3    0.009903\n",
      "4    0.000000\n",
      "5    0.000000\n",
      "6    0.000000\n",
      "7    0.000000\n",
      "8    0.000000\n",
      "dtype: float64\n"
     ]
    },
    {
     "data": {
      "text/plain": [
       "<matplotlib.collections.PathCollection at 0x7ffcf13e4d68>"
      ]
     },
     "execution_count": 11,
     "metadata": {},
     "output_type": "execute_result"
    },
    {
     "data": {
      "image/png": "[encoded data removed]",
      "text/plain": [
       "<Figure size 432x288 with 1 Axes>"
      ]
     },
     "metadata": {
      "needs_background": "light"
     },
     "output_type": "display_data"
    }
   ],
   "source": [
    "print(phi)\n",
    "plt.scatter([i for i,e in enumerate(overflow.circuit.list_graph_edges)],phi)"
   ]
  },
  {
   "cell_type": "code",
   "execution_count": 12,
   "metadata": {},
   "outputs": [
    {
     "name": "stdout",
     "output_type": "stream",
     "text": [
      "circuit(): initialized and ready for (some) action :)\n",
      "set networkx.spring_layout()\n",
      "set_source_landscape():  is set and consistent :)\n"
     ]
    }
   ],
   "source": [
    "n=5\n",
    "m=5\n",
    "pars={\n",
    "    'plexus':nx.grid_graph(( m,n,1)),\n",
    "    'absorption':0.1,\n",
    "    'diffusion':1.\n",
    "}\n",
    "circuit=kfx.setup_default_flux_circuit(pars)\n",
    "overflow=ho.initialize_overflow_on_circuit(circuit)\n",
    "overflow.calc_profile_concentration()\n",
    "\n",
    "c=overflow.get_concentrations_from_nodes()\n",
    "phi=overflow.calc_absorption()"
   ]
  },
  {
   "cell_type": "markdown",
   "metadata": {},
   "source": [
    "add network plot"
   ]
  },
  {
   "cell_type": "code",
   "execution_count": null,
   "metadata": {},
   "outputs": [],
   "source": []
  }
 ],
 "metadata": {
  "kernelspec": {
   "display_name": "Python 3",
   "language": "python",
   "name": "python3"
  },
  "language_info": {
   "codemirror_mode": {
    "name": "ipython",
    "version": 3
   },
   "file_extension": ".py",
   "mimetype": "text/x-python",
   "name": "python",
   "nbconvert_exporter": "python",
   "pygments_lexer": "ipython3",
   "version": "3.7.3"
  }
 },
 "nbformat": 4,
 "nbformat_minor": 4
}
