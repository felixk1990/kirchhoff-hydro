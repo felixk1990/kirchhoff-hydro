{
 "cells": [
  {
   "cell_type": "code",
   "execution_count": 1,
   "metadata": {},
   "outputs": [],
   "source": [
    "import networkx as nx\n",
    "import numpy as np\n",
    "import sys\n",
    "import matplotlib.pyplot as plt\n",
    "# import hailhydro\n",
    "sys.path.insert(0,'../')\n",
    "sys.path.insert(0,'../hailhydro')\n",
    "sys.path.insert(0,'../../kirchhoff-circuits/')\n",
    "sys.path.insert(0,'../../kirchhoff-circuits/kirchhoff')"
   ]
  },
  {
   "cell_type": "code",
   "execution_count": 14,
   "metadata": {},
   "outputs": [
    {
     "name": "stdout",
     "output_type": "stream",
     "text": [
      "circuit(): initialized and ready for (some) action :)\n",
      "set networkx.spring_layout()\n",
      "set_source_landscape():  is set and consistent :)\n",
      "set networkx.spring_layout()\n"
     ]
    },
    {
     "data": {
      "application/vnd.plotly.v1+json": {
       "config": {
        "plotlyServerURL": "https://plot.ly"
       },
       "data": [
        {
         "hoverinfo": "text",
         "hovertext": [
          "source: 1.0<br>solute: 1.0<br>concentration: 0.8129459890322325<br>",
          "source: 0.0<br>solute: 0.0<br>concentration: 0.7539014477501477<br>",
          "source: 0.0<br>solute: 0.0<br>concentration: 0.6949655959598473<br>",
          "source: 0.0<br>solute: 0.0<br>concentration: 0.6344406707923448<br>",
          "source: 0.0<br>solute: 0.0<br>concentration: 0.5699457093128262<br>",
          "source: 0.0<br>solute: 0.0<br>concentration: 0.4980902495584183<br>",
          "source: 0.0<br>solute: 0.0<br>concentration: 0.413995955621459<br>",
          "source: 0.0<br>solute: 0.0<br>concentration: 0.3105950571858915<br>",
          "source: 0.0<br>solute: 0.0<br>concentration: 0.1776012583249861<br>",
          "source: -1.0<br>solute: -1.0<br>concentration: 0.0<br>"
         ],
         "marker": {
          "color": "#a845b5",
          "line": {
           "width": 2
          },
          "size": 2
         },
         "mode": "markers",
         "type": "scatter",
         "x": [
          -0.4925181637908358,
          -0.3440102673769377,
          -0.17201015108696843,
          -0.011139315138041712,
          0.12237822088245509,
          0.20909418134834284,
          0.238894230394291,
          0.21890888967727884,
          0.1565298146751689,
          0.07387256041524684
         ],
         "y": [
          -0.8956562185235466,
          -0.7619382617600196,
          -0.5996090716951081,
          -0.4007556966394664,
          -0.17278981631055143,
          0.07785472358339675,
          0.3392992643791782,
          0.5930270921652391,
          0.8205679848008784,
          1
         ]
        },
        {
         "hoverinfo": "none",
         "line": {
          "color": "#c762d4",
          "width": 1
         },
         "mode": "lines",
         "type": "scatter",
         "x": [
          -0.4925181637908358,
          -0.3440102673769377,
          null
         ],
         "y": [
          -0.8956562185235466,
          -0.7619382617600196,
          null
         ]
        },
        {
         "hoverinfo": "none",
         "line": {
          "color": "#c762d4",
          "width": 1
         },
         "mode": "lines",
         "type": "scatter",
         "x": [
          -0.3440102673769377,
          -0.17201015108696843,
          null
         ],
         "y": [
          -0.7619382617600196,
          -0.5996090716951081,
          null
         ]
        },
        {
         "hoverinfo": "none",
         "line": {
          "color": "#c762d4",
          "width": 1
         },
         "mode": "lines",
         "type": "scatter",
         "x": [
          -0.17201015108696843,
          -0.011139315138041712,
          null
         ],
         "y": [
          -0.5996090716951081,
          -0.4007556966394664,
          null
         ]
        },
        {
         "hoverinfo": "none",
         "line": {
          "color": "#c762d4",
          "width": 1
         },
         "mode": "lines",
         "type": "scatter",
         "x": [
          -0.011139315138041712,
          0.12237822088245509,
          null
         ],
         "y": [
          -0.4007556966394664,
          -0.17278981631055143,
          null
         ]
        },
        {
         "hoverinfo": "none",
         "line": {
          "color": "#c762d4",
          "width": 1
         },
         "mode": "lines",
         "type": "scatter",
         "x": [
          0.12237822088245509,
          0.20909418134834284,
          null
         ],
         "y": [
          -0.17278981631055143,
          0.07785472358339675,
          null
         ]
        },
        {
         "hoverinfo": "none",
         "line": {
          "color": "#c762d4",
          "width": 1
         },
         "mode": "lines",
         "type": "scatter",
         "x": [
          0.20909418134834284,
          0.238894230394291,
          null
         ],
         "y": [
          0.07785472358339675,
          0.3392992643791782,
          null
         ]
        },
        {
         "hoverinfo": "none",
         "line": {
          "color": "#c762d4",
          "width": 1
         },
         "mode": "lines",
         "type": "scatter",
         "x": [
          0.238894230394291,
          0.21890888967727884,
          null
         ],
         "y": [
          0.3392992643791782,
          0.5930270921652391,
          null
         ]
        },
        {
         "hoverinfo": "none",
         "line": {
          "color": "#c762d4",
          "width": 1
         },
         "mode": "lines",
         "type": "scatter",
         "x": [
          0.21890888967727884,
          0.1565298146751689,
          null
         ],
         "y": [
          0.5930270921652391,
          0.8205679848008784,
          null
         ]
        },
        {
         "hoverinfo": "none",
         "line": {
          "color": "#c762d4",
          "width": 1
         },
         "mode": "lines",
         "type": "scatter",
         "x": [
          0.1565298146751689,
          0.07387256041524684,
          null
         ],
         "y": [
          0.8205679848008784,
          1,
          null
         ]
        },
        {
         "hoverinfo": "text",
         "marker": {
          "color": "#c762d4",
          "opacity": 0
         },
         "mode": "markers",
         "text": [
          "conductivity: 1.0<br>flow_rate: -1.0000000000000013<br>absorption: 0.1<br>uptake: 0.0615247476329124<br>peclet: -0.31830988618379114<br>length: 1.0<br>weight: 1.0<br>",
          "conductivity: 1.0<br>flow_rate: -1.0000000000000009<br>absorption: 0.1<br>uptake: 0.05690105504684303<br>peclet: -0.31830988618379097<br>length: 1.0<br>weight: 1.0<br>",
          "conductivity: 1.0<br>flow_rate: -1.0000000000000009<br>absorption: 0.1<br>uptake: 0.05222286932743947<br>peclet: -0.31830988618379097<br>length: 1.0<br>weight: 1.0<br>",
          "conductivity: 1.0<br>flow_rate: -0.9999999999999996<br>absorption: 0.1<br>uptake: 0.04733176839681033<br>peclet: -0.3183098861837905<br>length: 1.0<br>weight: 1.0<br>",
          "conductivity: 1.0<br>flow_rate: -1.0000000000000002<br>absorption: 0.1<br>uptake: 0.04200367261973083<br>peclet: -0.31830988618379075<br>length: 1.0<br>weight: 1.0<br>",
          "conductivity: 1.0<br>flow_rate: -1.0000000000000013<br>absorption: 0.1<br>uptake: 0.03591762626513221<br>peclet: -0.31830988618379114<br>length: 1.0<br>weight: 1.0<br>",
          "conductivity: 1.0<br>flow_rate: -1.0000000000000002<br>absorption: 0.1<br>uptake: 0.028610020522022717<br>peclet: -0.31830988618379075<br>length: 1.0<br>weight: 1.0<br>",
          "conductivity: 1.0<br>flow_rate: -1.0000000000000013<br>absorption: 0.1<br>uptake: 0.01940745119461851<br>peclet: -0.31830988618379114<br>length: 1.0<br>weight: 1.0<br>",
          "conductivity: 1.0<br>flow_rate: -1.0000000000000004<br>absorption: 0.1<br>uptake: 0.007328222731575721<br>peclet: -0.3183098861837908<br>length: 1.0<br>weight: 1.0<br>"
         ],
         "type": "scatter",
         "x": [
          -0.4182642155838867,
          -0.25801020923195306,
          -0.09157473311250507,
          0.05561945287220669,
          0.16573620111539897,
          0.2239942058713169,
          0.22890156003578493,
          0.18771935217622387,
          0.11520118754520788
         ],
         "y": [
          -0.8287972401417831,
          -0.6807736667275639,
          -0.5001823841672872,
          -0.28677275647500894,
          -0.04746754636357734,
          0.20857699398128746,
          0.46616317827220866,
          0.7067975384830587,
          0.9102839924004392
         ]
        }
       ],
       "layout": {
        "showlegend": false,
        "template": {
         "data": {
          "bar": [
           {
            "error_x": {
             "color": "#2a3f5f"
            },
            "error_y": {
             "color": "#2a3f5f"
            },
            "marker": {
             "line": {
              "color": "#E5ECF6",
              "width": 0.5
             }
            },
            "type": "bar"
           }
          ],
          "barpolar": [
           {
            "marker": {
             "line": {
              "color": "#E5ECF6",
              "width": 0.5
             }
            },
            "type": "barpolar"
           }
          ],
          "carpet": [
           {
            "aaxis": {
             "endlinecolor": "#2a3f5f",
             "gridcolor": "white",
             "linecolor": "white",
             "minorgridcolor": "white",
             "startlinecolor": "#2a3f5f"
            },
            "baxis": {
             "endlinecolor": "#2a3f5f",
             "gridcolor": "white",
             "linecolor": "white",
             "minorgridcolor": "white",
             "startlinecolor": "#2a3f5f"
            },
            "type": "carpet"
           }
          ],
          "choropleth": [
           {
            "colorbar": {
             "outlinewidth": 0,
             "ticks": ""
            },
            "type": "choropleth"
           }
          ],
          "contour": [
           {
            "colorbar": {
             "outlinewidth": 0,
             "ticks": ""
            },
            "colorscale": [
             [
              0,
              "#0d0887"
             ],
             [
              0.1111111111111111,
              "#46039f"
             ],
             [
              0.2222222222222222,
              "#7201a8"
             ],
             [
              0.3333333333333333,
              "#9c179e"
             ],
             [
              0.4444444444444444,
              "#bd3786"
             ],
             [
              0.5555555555555556,
              "#d8576b"
             ],
             [
              0.6666666666666666,
              "#ed7953"
             ],
             [
              0.7777777777777778,
              "#fb9f3a"
             ],
             [
              0.8888888888888888,
              "#fdca26"
             ],
             [
              1,
              "#f0f921"
             ]
            ],
            "type": "contour"
           }
          ],
          "contourcarpet": [
           {
            "colorbar": {
             "outlinewidth": 0,
             "ticks": ""
            },
            "type": "contourcarpet"
           }
          ],
          "heatmap": [
           {
            "colorbar": {
             "outlinewidth": 0,
             "ticks": ""
            },
            "colorscale": [
             [
              0,
              "#0d0887"
             ],
             [
              0.1111111111111111,
              "#46039f"
             ],
             [
              0.2222222222222222,
              "#7201a8"
             ],
             [
              0.3333333333333333,
              "#9c179e"
             ],
             [
              0.4444444444444444,
              "#bd3786"
             ],
             [
              0.5555555555555556,
              "#d8576b"
             ],
             [
              0.6666666666666666,
              "#ed7953"
             ],
             [
              0.7777777777777778,
              "#fb9f3a"
             ],
             [
              0.8888888888888888,
              "#fdca26"
             ],
             [
              1,
              "#f0f921"
             ]
            ],
            "type": "heatmap"
           }
          ],
          "heatmapgl": [
           {
            "colorbar": {
             "outlinewidth": 0,
             "ticks": ""
            },
            "colorscale": [
             [
              0,
              "#0d0887"
             ],
             [
              0.1111111111111111,
              "#46039f"
             ],
             [
              0.2222222222222222,
              "#7201a8"
             ],
             [
              0.3333333333333333,
              "#9c179e"
             ],
             [
              0.4444444444444444,
              "#bd3786"
             ],
             [
              0.5555555555555556,
              "#d8576b"
             ],
             [
              0.6666666666666666,
              "#ed7953"
             ],
             [
              0.7777777777777778,
              "#fb9f3a"
             ],
             [
              0.8888888888888888,
              "#fdca26"
             ],
             [
              1,
              "#f0f921"
             ]
            ],
            "type": "heatmapgl"
           }
          ],
          "histogram": [
           {
            "marker": {
             "colorbar": {
              "outlinewidth": 0,
              "ticks": ""
             }
            },
            "type": "histogram"
           }
          ],
          "histogram2d": [
           {
            "colorbar": {
             "outlinewidth": 0,
             "ticks": ""
            },
            "colorscale": [
             [
              0,
              "#0d0887"
             ],
             [
              0.1111111111111111,
              "#46039f"
             ],
             [
              0.2222222222222222,
              "#7201a8"
             ],
             [
              0.3333333333333333,
              "#9c179e"
             ],
             [
              0.4444444444444444,
              "#bd3786"
             ],
             [
              0.5555555555555556,
              "#d8576b"
             ],
             [
              0.6666666666666666,
              "#ed7953"
             ],
             [
              0.7777777777777778,
              "#fb9f3a"
             ],
             [
              0.8888888888888888,
              "#fdca26"
             ],
             [
              1,
              "#f0f921"
             ]
            ],
            "type": "histogram2d"
           }
          ],
          "histogram2dcontour": [
           {
            "colorbar": {
             "outlinewidth": 0,
             "ticks": ""
            },
            "colorscale": [
             [
              0,
              "#0d0887"
             ],
             [
              0.1111111111111111,
              "#46039f"
             ],
             [
              0.2222222222222222,
              "#7201a8"
             ],
             [
              0.3333333333333333,
              "#9c179e"
             ],
             [
              0.4444444444444444,
              "#bd3786"
             ],
             [
              0.5555555555555556,
              "#d8576b"
             ],
             [
              0.6666666666666666,
              "#ed7953"
             ],
             [
              0.7777777777777778,
              "#fb9f3a"
             ],
             [
              0.8888888888888888,
              "#fdca26"
             ],
             [
              1,
              "#f0f921"
             ]
            ],
            "type": "histogram2dcontour"
           }
          ],
          "mesh3d": [
           {
            "colorbar": {
             "outlinewidth": 0,
             "ticks": ""
            },
            "type": "mesh3d"
           }
          ],
          "parcoords": [
           {
            "line": {
             "colorbar": {
              "outlinewidth": 0,
              "ticks": ""
             }
            },
            "type": "parcoords"
           }
          ],
          "pie": [
           {
            "automargin": true,
            "type": "pie"
           }
          ],
          "scatter": [
           {
            "marker": {
             "colorbar": {
              "outlinewidth": 0,
              "ticks": ""
             }
            },
            "type": "scatter"
           }
          ],
          "scatter3d": [
           {
            "line": {
             "colorbar": {
              "outlinewidth": 0,
              "ticks": ""
             }
            },
            "marker": {
             "colorbar": {
              "outlinewidth": 0,
              "ticks": ""
             }
            },
            "type": "scatter3d"
           }
          ],
          "scattercarpet": [
           {
            "marker": {
             "colorbar": {
              "outlinewidth": 0,
              "ticks": ""
             }
            },
            "type": "scattercarpet"
           }
          ],
          "scattergeo": [
           {
            "marker": {
             "colorbar": {
              "outlinewidth": 0,
              "ticks": ""
             }
            },
            "type": "scattergeo"
           }
          ],
          "scattergl": [
           {
            "marker": {
             "colorbar": {
              "outlinewidth": 0,
              "ticks": ""
             }
            },
            "type": "scattergl"
           }
          ],
          "scattermapbox": [
           {
            "marker": {
             "colorbar": {
              "outlinewidth": 0,
              "ticks": ""
             }
            },
            "type": "scattermapbox"
           }
          ],
          "scatterpolar": [
           {
            "marker": {
             "colorbar": {
              "outlinewidth": 0,
              "ticks": ""
             }
            },
            "type": "scatterpolar"
           }
          ],
          "scatterpolargl": [
           {
            "marker": {
             "colorbar": {
              "outlinewidth": 0,
              "ticks": ""
             }
            },
            "type": "scatterpolargl"
           }
          ],
          "scatterternary": [
           {
            "marker": {
             "colorbar": {
              "outlinewidth": 0,
              "ticks": ""
             }
            },
            "type": "scatterternary"
           }
          ],
          "surface": [
           {
            "colorbar": {
             "outlinewidth": 0,
             "ticks": ""
            },
            "colorscale": [
             [
              0,
              "#0d0887"
             ],
             [
              0.1111111111111111,
              "#46039f"
             ],
             [
              0.2222222222222222,
              "#7201a8"
             ],
             [
              0.3333333333333333,
              "#9c179e"
             ],
             [
              0.4444444444444444,
              "#bd3786"
             ],
             [
              0.5555555555555556,
              "#d8576b"
             ],
             [
              0.6666666666666666,
              "#ed7953"
             ],
             [
              0.7777777777777778,
              "#fb9f3a"
             ],
             [
              0.8888888888888888,
              "#fdca26"
             ],
             [
              1,
              "#f0f921"
             ]
            ],
            "type": "surface"
           }
          ],
          "table": [
           {
            "cells": {
             "fill": {
              "color": "#EBF0F8"
             },
             "line": {
              "color": "white"
             }
            },
            "header": {
             "fill": {
              "color": "#C8D4E3"
             },
             "line": {
              "color": "white"
             }
            },
            "type": "table"
           }
          ]
         },
         "layout": {
          "annotationdefaults": {
           "arrowcolor": "#2a3f5f",
           "arrowhead": 0,
           "arrowwidth": 1
          },
          "autotypenumbers": "strict",
          "coloraxis": {
           "colorbar": {
            "outlinewidth": 0,
            "ticks": ""
           }
          },
          "colorscale": {
           "diverging": [
            [
             0,
             "#8e0152"
            ],
            [
             0.1,
             "#c51b7d"
            ],
            [
             0.2,
             "#de77ae"
            ],
            [
             0.3,
             "#f1b6da"
            ],
            [
             0.4,
             "#fde0ef"
            ],
            [
             0.5,
             "#f7f7f7"
            ],
            [
             0.6,
             "#e6f5d0"
            ],
            [
             0.7,
             "#b8e186"
            ],
            [
             0.8,
             "#7fbc41"
            ],
            [
             0.9,
             "#4d9221"
            ],
            [
             1,
             "#276419"
            ]
           ],
           "sequential": [
            [
             0,
             "#0d0887"
            ],
            [
             0.1111111111111111,
             "#46039f"
            ],
            [
             0.2222222222222222,
             "#7201a8"
            ],
            [
             0.3333333333333333,
             "#9c179e"
            ],
            [
             0.4444444444444444,
             "#bd3786"
            ],
            [
             0.5555555555555556,
             "#d8576b"
            ],
            [
             0.6666666666666666,
             "#ed7953"
            ],
            [
             0.7777777777777778,
             "#fb9f3a"
            ],
            [
             0.8888888888888888,
             "#fdca26"
            ],
            [
             1,
             "#f0f921"
            ]
           ],
           "sequentialminus": [
            [
             0,
             "#0d0887"
            ],
            [
             0.1111111111111111,
             "#46039f"
            ],
            [
             0.2222222222222222,
             "#7201a8"
            ],
            [
             0.3333333333333333,
             "#9c179e"
            ],
            [
             0.4444444444444444,
             "#bd3786"
            ],
            [
             0.5555555555555556,
             "#d8576b"
            ],
            [
             0.6666666666666666,
             "#ed7953"
            ],
            [
             0.7777777777777778,
             "#fb9f3a"
            ],
            [
             0.8888888888888888,
             "#fdca26"
            ],
            [
             1,
             "#f0f921"
            ]
           ]
          },
          "colorway": [
           "#636efa",
           "#EF553B",
           "#00cc96",
           "#ab63fa",
           "#FFA15A",
           "#19d3f3",
           "#FF6692",
           "#B6E880",
           "#FF97FF",
           "#FECB52"
          ],
          "font": {
           "color": "#2a3f5f"
          },
          "geo": {
           "bgcolor": "white",
           "lakecolor": "white",
           "landcolor": "#E5ECF6",
           "showlakes": true,
           "showland": true,
           "subunitcolor": "white"
          },
          "hoverlabel": {
           "align": "left"
          },
          "hovermode": "closest",
          "mapbox": {
           "style": "light"
          },
          "paper_bgcolor": "white",
          "plot_bgcolor": "#E5ECF6",
          "polar": {
           "angularaxis": {
            "gridcolor": "white",
            "linecolor": "white",
            "ticks": ""
           },
           "bgcolor": "#E5ECF6",
           "radialaxis": {
            "gridcolor": "white",
            "linecolor": "white",
            "ticks": ""
           }
          },
          "scene": {
           "xaxis": {
            "backgroundcolor": "#E5ECF6",
            "gridcolor": "white",
            "gridwidth": 2,
            "linecolor": "white",
            "showbackground": true,
            "ticks": "",
            "zerolinecolor": "white"
           },
           "yaxis": {
            "backgroundcolor": "#E5ECF6",
            "gridcolor": "white",
            "gridwidth": 2,
            "linecolor": "white",
            "showbackground": true,
            "ticks": "",
            "zerolinecolor": "white"
           },
           "zaxis": {
            "backgroundcolor": "#E5ECF6",
            "gridcolor": "white",
            "gridwidth": 2,
            "linecolor": "white",
            "showbackground": true,
            "ticks": "",
            "zerolinecolor": "white"
           }
          },
          "shapedefaults": {
           "line": {
            "color": "#2a3f5f"
           }
          },
          "ternary": {
           "aaxis": {
            "gridcolor": "white",
            "linecolor": "white",
            "ticks": ""
           },
           "baxis": {
            "gridcolor": "white",
            "linecolor": "white",
            "ticks": ""
           },
           "bgcolor": "#E5ECF6",
           "caxis": {
            "gridcolor": "white",
            "linecolor": "white",
            "ticks": ""
           }
          },
          "title": {
           "x": 0.05
          },
          "xaxis": {
           "automargin": true,
           "gridcolor": "white",
           "linecolor": "white",
           "ticks": "",
           "title": {
            "standoff": 15
           },
           "zerolinecolor": "white",
           "zerolinewidth": 2
          },
          "yaxis": {
           "automargin": true,
           "gridcolor": "white",
           "linecolor": "white",
           "ticks": "",
           "title": {
            "standoff": 15
           },
           "zerolinecolor": "white",
           "zerolinewidth": 2
          }
         }
        }
       }
      },
      "text/html": [
       "<div>                            <div id=\"5231c564-bec9-450c-aca4-451804ce34aa\" class=\"plotly-graph-div\" style=\"height:525px; width:100%;\"></div>            <script type=\"text/javascript\">                require([\"plotly\"], function(Plotly) {                    window.PLOTLYENV=window.PLOTLYENV || {};                                    if (document.getElementById(\"5231c564-bec9-450c-aca4-451804ce34aa\")) {                    Plotly.newPlot(                        \"5231c564-bec9-450c-aca4-451804ce34aa\",                        [{\"hoverinfo\": \"text\", \"hovertext\": [\"source: 1.0<br>solute: 1.0<br>concentration: 0.8129459890322325<br>\", \"source: 0.0<br>solute: 0.0<br>concentration: 0.7539014477501477<br>\", \"source: 0.0<br>solute: 0.0<br>concentration: 0.6949655959598473<br>\", \"source: 0.0<br>solute: 0.0<br>concentration: 0.6344406707923448<br>\", \"source: 0.0<br>solute: 0.0<br>concentration: 0.5699457093128262<br>\", \"source: 0.0<br>solute: 0.0<br>concentration: 0.4980902495584183<br>\", \"source: 0.0<br>solute: 0.0<br>concentration: 0.413995955621459<br>\", \"source: 0.0<br>solute: 0.0<br>concentration: 0.3105950571858915<br>\", \"source: 0.0<br>solute: 0.0<br>concentration: 0.1776012583249861<br>\", \"source: -1.0<br>solute: -1.0<br>concentration: 0.0<br>\"], \"marker\": {\"color\": \"#a845b5\", \"line\": {\"width\": 2}, \"size\": 2}, \"mode\": \"markers\", \"type\": \"scatter\", \"x\": [-0.4925181637908358, -0.3440102673769377, -0.17201015108696843, -0.011139315138041712, 0.12237822088245509, 0.20909418134834284, 0.238894230394291, 0.21890888967727884, 0.1565298146751689, 0.07387256041524684], \"y\": [-0.8956562185235466, -0.7619382617600196, -0.5996090716951081, -0.4007556966394664, -0.17278981631055143, 0.07785472358339675, 0.3392992643791782, 0.5930270921652391, 0.8205679848008784, 1.0]}, {\"hoverinfo\": \"none\", \"line\": {\"color\": \"#c762d4\", \"width\": 1.0}, \"mode\": \"lines\", \"type\": \"scatter\", \"x\": [-0.4925181637908358, -0.3440102673769377, null], \"y\": [-0.8956562185235466, -0.7619382617600196, null]}, {\"hoverinfo\": \"none\", \"line\": {\"color\": \"#c762d4\", \"width\": 1.0}, \"mode\": \"lines\", \"type\": \"scatter\", \"x\": [-0.3440102673769377, -0.17201015108696843, null], \"y\": [-0.7619382617600196, -0.5996090716951081, null]}, {\"hoverinfo\": \"none\", \"line\": {\"color\": \"#c762d4\", \"width\": 1.0}, \"mode\": \"lines\", \"type\": \"scatter\", \"x\": [-0.17201015108696843, -0.011139315138041712, null], \"y\": [-0.5996090716951081, -0.4007556966394664, null]}, {\"hoverinfo\": \"none\", \"line\": {\"color\": \"#c762d4\", \"width\": 1.0}, \"mode\": \"lines\", \"type\": \"scatter\", \"x\": [-0.011139315138041712, 0.12237822088245509, null], \"y\": [-0.4007556966394664, -0.17278981631055143, null]}, {\"hoverinfo\": \"none\", \"line\": {\"color\": \"#c762d4\", \"width\": 1.0}, \"mode\": \"lines\", \"type\": \"scatter\", \"x\": [0.12237822088245509, 0.20909418134834284, null], \"y\": [-0.17278981631055143, 0.07785472358339675, null]}, {\"hoverinfo\": \"none\", \"line\": {\"color\": \"#c762d4\", \"width\": 1.0}, \"mode\": \"lines\", \"type\": \"scatter\", \"x\": [0.20909418134834284, 0.238894230394291, null], \"y\": [0.07785472358339675, 0.3392992643791782, null]}, {\"hoverinfo\": \"none\", \"line\": {\"color\": \"#c762d4\", \"width\": 1.0}, \"mode\": \"lines\", \"type\": \"scatter\", \"x\": [0.238894230394291, 0.21890888967727884, null], \"y\": [0.3392992643791782, 0.5930270921652391, null]}, {\"hoverinfo\": \"none\", \"line\": {\"color\": \"#c762d4\", \"width\": 1.0}, \"mode\": \"lines\", \"type\": \"scatter\", \"x\": [0.21890888967727884, 0.1565298146751689, null], \"y\": [0.5930270921652391, 0.8205679848008784, null]}, {\"hoverinfo\": \"none\", \"line\": {\"color\": \"#c762d4\", \"width\": 1.0}, \"mode\": \"lines\", \"type\": \"scatter\", \"x\": [0.1565298146751689, 0.07387256041524684, null], \"y\": [0.8205679848008784, 1.0, null]}, {\"hoverinfo\": \"text\", \"marker\": {\"color\": \"#c762d4\", \"opacity\": 0}, \"mode\": \"markers\", \"text\": [\"conductivity: 1.0<br>flow_rate: -1.0000000000000013<br>absorption: 0.1<br>uptake: 0.0615247476329124<br>peclet: -0.31830988618379114<br>length: 1.0<br>weight: 1.0<br>\", \"conductivity: 1.0<br>flow_rate: -1.0000000000000009<br>absorption: 0.1<br>uptake: 0.05690105504684303<br>peclet: -0.31830988618379097<br>length: 1.0<br>weight: 1.0<br>\", \"conductivity: 1.0<br>flow_rate: -1.0000000000000009<br>absorption: 0.1<br>uptake: 0.05222286932743947<br>peclet: -0.31830988618379097<br>length: 1.0<br>weight: 1.0<br>\", \"conductivity: 1.0<br>flow_rate: -0.9999999999999996<br>absorption: 0.1<br>uptake: 0.04733176839681033<br>peclet: -0.3183098861837905<br>length: 1.0<br>weight: 1.0<br>\", \"conductivity: 1.0<br>flow_rate: -1.0000000000000002<br>absorption: 0.1<br>uptake: 0.04200367261973083<br>peclet: -0.31830988618379075<br>length: 1.0<br>weight: 1.0<br>\", \"conductivity: 1.0<br>flow_rate: -1.0000000000000013<br>absorption: 0.1<br>uptake: 0.03591762626513221<br>peclet: -0.31830988618379114<br>length: 1.0<br>weight: 1.0<br>\", \"conductivity: 1.0<br>flow_rate: -1.0000000000000002<br>absorption: 0.1<br>uptake: 0.028610020522022717<br>peclet: -0.31830988618379075<br>length: 1.0<br>weight: 1.0<br>\", \"conductivity: 1.0<br>flow_rate: -1.0000000000000013<br>absorption: 0.1<br>uptake: 0.01940745119461851<br>peclet: -0.31830988618379114<br>length: 1.0<br>weight: 1.0<br>\", \"conductivity: 1.0<br>flow_rate: -1.0000000000000004<br>absorption: 0.1<br>uptake: 0.007328222731575721<br>peclet: -0.3183098861837908<br>length: 1.0<br>weight: 1.0<br>\"], \"type\": \"scatter\", \"x\": [-0.4182642155838867, -0.25801020923195306, -0.09157473311250507, 0.05561945287220669, 0.16573620111539897, 0.2239942058713169, 0.22890156003578493, 0.18771935217622387, 0.11520118754520788], \"y\": [-0.8287972401417831, -0.6807736667275639, -0.5001823841672872, -0.28677275647500894, -0.04746754636357734, 0.20857699398128746, 0.46616317827220866, 0.7067975384830587, 0.9102839924004392]}],                        {\"showlegend\": false, \"template\": {\"data\": {\"bar\": [{\"error_x\": {\"color\": \"#2a3f5f\"}, \"error_y\": {\"color\": \"#2a3f5f\"}, \"marker\": {\"line\": {\"color\": \"#E5ECF6\", \"width\": 0.5}}, \"type\": \"bar\"}], \"barpolar\": [{\"marker\": {\"line\": {\"color\": \"#E5ECF6\", \"width\": 0.5}}, \"type\": \"barpolar\"}], \"carpet\": [{\"aaxis\": {\"endlinecolor\": \"#2a3f5f\", \"gridcolor\": \"white\", \"linecolor\": \"white\", \"minorgridcolor\": \"white\", \"startlinecolor\": \"#2a3f5f\"}, \"baxis\": {\"endlinecolor\": \"#2a3f5f\", \"gridcolor\": \"white\", \"linecolor\": \"white\", \"minorgridcolor\": \"white\", \"startlinecolor\": \"#2a3f5f\"}, \"type\": \"carpet\"}], \"choropleth\": [{\"colorbar\": {\"outlinewidth\": 0, \"ticks\": \"\"}, \"type\": \"choropleth\"}], \"contour\": [{\"colorbar\": {\"outlinewidth\": 0, \"ticks\": \"\"}, \"colorscale\": [[0.0, \"#0d0887\"], [0.1111111111111111, \"#46039f\"], [0.2222222222222222, \"#7201a8\"], [0.3333333333333333, \"#9c179e\"], [0.4444444444444444, \"#bd3786\"], [0.5555555555555556, \"#d8576b\"], [0.6666666666666666, \"#ed7953\"], [0.7777777777777778, \"#fb9f3a\"], [0.8888888888888888, \"#fdca26\"], [1.0, \"#f0f921\"]], \"type\": \"contour\"}], \"contourcarpet\": [{\"colorbar\": {\"outlinewidth\": 0, \"ticks\": \"\"}, \"type\": \"contourcarpet\"}], \"heatmap\": [{\"colorbar\": {\"outlinewidth\": 0, \"ticks\": \"\"}, \"colorscale\": [[0.0, \"#0d0887\"], [0.1111111111111111, \"#46039f\"], [0.2222222222222222, \"#7201a8\"], [0.3333333333333333, \"#9c179e\"], [0.4444444444444444, \"#bd3786\"], [0.5555555555555556, \"#d8576b\"], [0.6666666666666666, \"#ed7953\"], [0.7777777777777778, \"#fb9f3a\"], [0.8888888888888888, \"#fdca26\"], [1.0, \"#f0f921\"]], \"type\": \"heatmap\"}], \"heatmapgl\": [{\"colorbar\": {\"outlinewidth\": 0, \"ticks\": \"\"}, \"colorscale\": [[0.0, \"#0d0887\"], [0.1111111111111111, \"#46039f\"], [0.2222222222222222, \"#7201a8\"], [0.3333333333333333, \"#9c179e\"], [0.4444444444444444, \"#bd3786\"], [0.5555555555555556, \"#d8576b\"], [0.6666666666666666, \"#ed7953\"], [0.7777777777777778, \"#fb9f3a\"], [0.8888888888888888, \"#fdca26\"], [1.0, \"#f0f921\"]], \"type\": \"heatmapgl\"}], \"histogram\": [{\"marker\": {\"colorbar\": {\"outlinewidth\": 0, \"ticks\": \"\"}}, \"type\": \"histogram\"}], \"histogram2d\": [{\"colorbar\": {\"outlinewidth\": 0, \"ticks\": \"\"}, \"colorscale\": [[0.0, \"#0d0887\"], [0.1111111111111111, \"#46039f\"], [0.2222222222222222, \"#7201a8\"], [0.3333333333333333, \"#9c179e\"], [0.4444444444444444, \"#bd3786\"], [0.5555555555555556, \"#d8576b\"], [0.6666666666666666, \"#ed7953\"], [0.7777777777777778, \"#fb9f3a\"], [0.8888888888888888, \"#fdca26\"], [1.0, \"#f0f921\"]], \"type\": \"histogram2d\"}], \"histogram2dcontour\": [{\"colorbar\": {\"outlinewidth\": 0, \"ticks\": \"\"}, \"colorscale\": [[0.0, \"#0d0887\"], [0.1111111111111111, \"#46039f\"], [0.2222222222222222, \"#7201a8\"], [0.3333333333333333, \"#9c179e\"], [0.4444444444444444, \"#bd3786\"], [0.5555555555555556, \"#d8576b\"], [0.6666666666666666, \"#ed7953\"], [0.7777777777777778, \"#fb9f3a\"], [0.8888888888888888, \"#fdca26\"], [1.0, \"#f0f921\"]], \"type\": \"histogram2dcontour\"}], \"mesh3d\": [{\"colorbar\": {\"outlinewidth\": 0, \"ticks\": \"\"}, \"type\": \"mesh3d\"}], \"parcoords\": [{\"line\": {\"colorbar\": {\"outlinewidth\": 0, \"ticks\": \"\"}}, \"type\": \"parcoords\"}], \"pie\": [{\"automargin\": true, \"type\": \"pie\"}], \"scatter\": [{\"marker\": {\"colorbar\": {\"outlinewidth\": 0, \"ticks\": \"\"}}, \"type\": \"scatter\"}], \"scatter3d\": [{\"line\": {\"colorbar\": {\"outlinewidth\": 0, \"ticks\": \"\"}}, \"marker\": {\"colorbar\": {\"outlinewidth\": 0, \"ticks\": \"\"}}, \"type\": \"scatter3d\"}], \"scattercarpet\": [{\"marker\": {\"colorbar\": {\"outlinewidth\": 0, \"ticks\": \"\"}}, \"type\": \"scattercarpet\"}], \"scattergeo\": [{\"marker\": {\"colorbar\": {\"outlinewidth\": 0, \"ticks\": \"\"}}, \"type\": \"scattergeo\"}], \"scattergl\": [{\"marker\": {\"colorbar\": {\"outlinewidth\": 0, \"ticks\": \"\"}}, \"type\": \"scattergl\"}], \"scattermapbox\": [{\"marker\": {\"colorbar\": {\"outlinewidth\": 0, \"ticks\": \"\"}}, \"type\": \"scattermapbox\"}], \"scatterpolar\": [{\"marker\": {\"colorbar\": {\"outlinewidth\": 0, \"ticks\": \"\"}}, \"type\": \"scatterpolar\"}], \"scatterpolargl\": [{\"marker\": {\"colorbar\": {\"outlinewidth\": 0, \"ticks\": \"\"}}, \"type\": \"scatterpolargl\"}], \"scatterternary\": [{\"marker\": {\"colorbar\": {\"outlinewidth\": 0, \"ticks\": \"\"}}, \"type\": \"scatterternary\"}], \"surface\": [{\"colorbar\": {\"outlinewidth\": 0, \"ticks\": \"\"}, \"colorscale\": [[0.0, \"#0d0887\"], [0.1111111111111111, \"#46039f\"], [0.2222222222222222, \"#7201a8\"], [0.3333333333333333, \"#9c179e\"], [0.4444444444444444, \"#bd3786\"], [0.5555555555555556, \"#d8576b\"], [0.6666666666666666, \"#ed7953\"], [0.7777777777777778, \"#fb9f3a\"], [0.8888888888888888, \"#fdca26\"], [1.0, \"#f0f921\"]], \"type\": \"surface\"}], \"table\": [{\"cells\": {\"fill\": {\"color\": \"#EBF0F8\"}, \"line\": {\"color\": \"white\"}}, \"header\": {\"fill\": {\"color\": \"#C8D4E3\"}, \"line\": {\"color\": \"white\"}}, \"type\": \"table\"}]}, \"layout\": {\"annotationdefaults\": {\"arrowcolor\": \"#2a3f5f\", \"arrowhead\": 0, \"arrowwidth\": 1}, \"autotypenumbers\": \"strict\", \"coloraxis\": {\"colorbar\": {\"outlinewidth\": 0, \"ticks\": \"\"}}, \"colorscale\": {\"diverging\": [[0, \"#8e0152\"], [0.1, \"#c51b7d\"], [0.2, \"#de77ae\"], [0.3, \"#f1b6da\"], [0.4, \"#fde0ef\"], [0.5, \"#f7f7f7\"], [0.6, \"#e6f5d0\"], [0.7, \"#b8e186\"], [0.8, \"#7fbc41\"], [0.9, \"#4d9221\"], [1, \"#276419\"]], \"sequential\": [[0.0, \"#0d0887\"], [0.1111111111111111, \"#46039f\"], [0.2222222222222222, \"#7201a8\"], [0.3333333333333333, \"#9c179e\"], [0.4444444444444444, \"#bd3786\"], [0.5555555555555556, \"#d8576b\"], [0.6666666666666666, \"#ed7953\"], [0.7777777777777778, \"#fb9f3a\"], [0.8888888888888888, \"#fdca26\"], [1.0, \"#f0f921\"]], \"sequentialminus\": [[0.0, \"#0d0887\"], [0.1111111111111111, \"#46039f\"], [0.2222222222222222, \"#7201a8\"], [0.3333333333333333, \"#9c179e\"], [0.4444444444444444, \"#bd3786\"], [0.5555555555555556, \"#d8576b\"], [0.6666666666666666, \"#ed7953\"], [0.7777777777777778, \"#fb9f3a\"], [0.8888888888888888, \"#fdca26\"], [1.0, \"#f0f921\"]]}, \"colorway\": [\"#636efa\", \"#EF553B\", \"#00cc96\", \"#ab63fa\", \"#FFA15A\", \"#19d3f3\", \"#FF6692\", \"#B6E880\", \"#FF97FF\", \"#FECB52\"], \"font\": {\"color\": \"#2a3f5f\"}, \"geo\": {\"bgcolor\": \"white\", \"lakecolor\": \"white\", \"landcolor\": \"#E5ECF6\", \"showlakes\": true, \"showland\": true, \"subunitcolor\": \"white\"}, \"hoverlabel\": {\"align\": \"left\"}, \"hovermode\": \"closest\", \"mapbox\": {\"style\": \"light\"}, \"paper_bgcolor\": \"white\", \"plot_bgcolor\": \"#E5ECF6\", \"polar\": {\"angularaxis\": {\"gridcolor\": \"white\", \"linecolor\": \"white\", \"ticks\": \"\"}, \"bgcolor\": \"#E5ECF6\", \"radialaxis\": {\"gridcolor\": \"white\", \"linecolor\": \"white\", \"ticks\": \"\"}}, \"scene\": {\"xaxis\": {\"backgroundcolor\": \"#E5ECF6\", \"gridcolor\": \"white\", \"gridwidth\": 2, \"linecolor\": \"white\", \"showbackground\": true, \"ticks\": \"\", \"zerolinecolor\": \"white\"}, \"yaxis\": {\"backgroundcolor\": \"#E5ECF6\", \"gridcolor\": \"white\", \"gridwidth\": 2, \"linecolor\": \"white\", \"showbackground\": true, \"ticks\": \"\", \"zerolinecolor\": \"white\"}, \"zaxis\": {\"backgroundcolor\": \"#E5ECF6\", \"gridcolor\": \"white\", \"gridwidth\": 2, \"linecolor\": \"white\", \"showbackground\": true, \"ticks\": \"\", \"zerolinecolor\": \"white\"}}, \"shapedefaults\": {\"line\": {\"color\": \"#2a3f5f\"}}, \"ternary\": {\"aaxis\": {\"gridcolor\": \"white\", \"linecolor\": \"white\", \"ticks\": \"\"}, \"baxis\": {\"gridcolor\": \"white\", \"linecolor\": \"white\", \"ticks\": \"\"}, \"bgcolor\": \"#E5ECF6\", \"caxis\": {\"gridcolor\": \"white\", \"linecolor\": \"white\", \"ticks\": \"\"}}, \"title\": {\"x\": 0.05}, \"xaxis\": {\"automargin\": true, \"gridcolor\": \"white\", \"linecolor\": \"white\", \"ticks\": \"\", \"title\": {\"standoff\": 15}, \"zerolinecolor\": \"white\", \"zerolinewidth\": 2}, \"yaxis\": {\"automargin\": true, \"gridcolor\": \"white\", \"linecolor\": \"white\", \"ticks\": \"\", \"title\": {\"standoff\": 15}, \"zerolinecolor\": \"white\", \"zerolinewidth\": 2}}}},                        {\"responsive\": true}                    ).then(function(){\n",
       "                            \n",
       "var gd = document.getElementById('5231c564-bec9-450c-aca4-451804ce34aa');\n",
       "var x = new MutationObserver(function (mutations, observer) {{\n",
       "        var display = window.getComputedStyle(gd).display;\n",
       "        if (!display || display === 'none') {{\n",
       "            console.log([gd, 'removed!']);\n",
       "            Plotly.purge(gd);\n",
       "            observer.disconnect();\n",
       "        }}\n",
       "}});\n",
       "\n",
       "// Listen for the removal of the full notebook cells\n",
       "var notebookContainer = gd.closest('#notebook-container');\n",
       "if (notebookContainer) {{\n",
       "    x.observe(notebookContainer, {childList: true});\n",
       "}}\n",
       "\n",
       "// Listen for the clearing of the current output cell\n",
       "var outputEl = gd.closest('.output');\n",
       "if (outputEl) {{\n",
       "    x.observe(outputEl, {childList: true});\n",
       "}}\n",
       "\n",
       "                        })                };                });            </script>        </div>"
      ]
     },
     "metadata": {},
     "output_type": "display_data"
    }
   ],
   "source": [
    "import hailhydro\n",
    "import hailhydro.flux_overflow as ho\n",
    "import kirchhoff.circuit_flux as kfx\n",
    "\n",
    "n=10\n",
    "m=1\n",
    "G=nx.grid_graph(( m,n,1))\n",
    "pars={\n",
    "    'plexus': G,\n",
    "    'absorption':0.1,\n",
    "    'diffusion':1.\n",
    "}\n",
    "circuit=kfx.setup_default_flux_circuit(pars)\n",
    "overflow=ho.initialize_overflow_on_circuit(circuit)\n",
    "c,B_new=overflow.calc_profile_concentration()\n",
    "phi=overflow.calc_absorption()\n",
    "\n",
    "fig=overflow.circuit.plot_circuit()\n",
    "fig.show()"
   ]
  },
  {
   "cell_type": "code",
   "execution_count": 15,
   "metadata": {},
   "outputs": [
    {
     "data": {
      "text/plain": [
       "Text(0, 0.5, '$\\\\Phi$')"
      ]
     },
     "execution_count": 15,
     "metadata": {},
     "output_type": "execute_result"
    },
    {
     "data": {
      "image/png": "[encoded data removed]",
      "text/plain": [
       "<Figure size 432x288 with 2 Axes>"
      ]
     },
     "metadata": {
      "needs_background": "light"
     },
     "output_type": "display_data"
    }
   ],
   "source": [
    "fig, ax=plt.subplots(2,1)\n",
    "ax[0].scatter(overflow.circuit.list_graph_nodes,overflow.circuit.nodes['concentration'])\n",
    "ax[0].set_xlabel('nodes')\n",
    "ax[0].set_ylabel(r'$C$')\n",
    "plt.subplots_adjust(hspace=0.4)\n",
    "ax[1].scatter([i for i,e in enumerate(overflow.circuit.list_graph_edges)],overflow.circuit.edges['uptake'])\n",
    "ax[1].set_xlabel('edges')\n",
    "ax[1].set_ylabel(r'$\\Phi$')"
   ]
  },
  {
   "cell_type": "code",
   "execution_count": 18,
   "metadata": {},
   "outputs": [
    {
     "name": "stdout",
     "output_type": "stream",
     "text": [
      "circuit(): initialized and ready for (some) action :)\n",
      "set networkx.spring_layout()\n",
      "set_source_landscape():  is set and consistent :)\n",
      "set networkx.spring_layout()\n"
     ]
    },
    {
     "data": {
      "application/vnd.plotly.v1+json": {
       "config": {
        "plotlyServerURL": "https://plot.ly"
       },
       "data": [
        {
         "hoverinfo": "text",
         "hovertext": [
          "source: 1.0<br>solute: 1.0<br>concentration: 0.3701137868058443<br>",
          "source: 0.0<br>solute: 0.0<br>concentration: 0.2658851405365506<br>",
          "source: 0.0<br>solute: 0.0<br>concentration: 0.20476008336022328<br>",
          "source: 0.0<br>solute: 0.0<br>concentration: 0.17544573875173589<br>",
          "source: 0.0<br>solute: 0.0<br>concentration: 0.2658851405365506<br>",
          "source: 0.0<br>solute: 0.0<br>concentration: 0.21997327692492888<br>",
          "source: 0.0<br>solute: 0.0<br>concentration: 0.1765236144552877<br>",
          "source: 0.0<br>solute: 0.0<br>concentration: 0.14926436897925352<br>",
          "source: 0.0<br>solute: 0.0<br>concentration: 0.20476008336022322<br>",
          "source: 0.0<br>solute: 0.0<br>concentration: 0.1765236144552877<br>",
          "source: 0.0<br>solute: 0.0<br>concentration: 0.13684277254551197<br>",
          "source: 0.0<br>solute: 0.0<br>concentration: 0.09790871080152931<br>",
          "source: 0.0<br>solute: 0.0<br>concentration: 0.17544573875173586<br>",
          "source: 0.0<br>solute: 0.0<br>concentration: 0.14926436897925352<br>",
          "source: 0.0<br>solute: 0.0<br>concentration: 0.09790871080152931<br>",
          "source: -1.0<br>solute: -1.0<br>concentration: 0.0<br>"
         ],
         "marker": {
          "color": "#a845b5",
          "line": {
           "width": 2
          },
          "size": 2
         },
         "mode": "markers",
         "type": "scatter",
         "x": [
          -0.08568940971765324,
          -0.37695159519563437,
          -0.6887756699085331,
          -0.941420730029327,
          0.2577869591305434,
          -0.03525829679579819,
          -0.35188440007845434,
          -0.6255112638877318,
          0.6289071848422526,
          0.35105676934957963,
          0.0333198997341849,
          -0.25517992338857753,
          0.941980175204065,
          0.6845177676185029,
          0.37783272723882116,
          0.08526980588376118
         ],
         "y": [
          0.9992480712959532,
          0.6723337070926676,
          0.28427212851285444,
          -0.07612309799457558,
          0.7220910713614856,
          0.37471822615228,
          -0.025098643764986012,
          -0.3871539795658363,
          0.38642750641828305,
          0.02740793190987964,
          -0.37447282656203745,
          -0.7204779318018044,
          0.07427502680909169,
          -0.28395651237691877,
          -0.673490677486337,
          -0.9999999999999999
         ]
        },
        {
         "hoverinfo": "none",
         "line": {
          "color": "#c762d4",
          "width": 1
         },
         "mode": "lines",
         "type": "scatter",
         "x": [
          -0.08568940971765324,
          0.2577869591305434,
          null
         ],
         "y": [
          0.9992480712959532,
          0.7220910713614856,
          null
         ]
        },
        {
         "hoverinfo": "none",
         "line": {
          "color": "#c762d4",
          "width": 1
         },
         "mode": "lines",
         "type": "scatter",
         "x": [
          -0.08568940971765324,
          -0.37695159519563437,
          null
         ],
         "y": [
          0.9992480712959532,
          0.6723337070926676,
          null
         ]
        },
        {
         "hoverinfo": "none",
         "line": {
          "color": "#c762d4",
          "width": 1
         },
         "mode": "lines",
         "type": "scatter",
         "x": [
          -0.37695159519563437,
          -0.03525829679579819,
          null
         ],
         "y": [
          0.6723337070926676,
          0.37471822615228,
          null
         ]
        },
        {
         "hoverinfo": "none",
         "line": {
          "color": "#c762d4",
          "width": 1
         },
         "mode": "lines",
         "type": "scatter",
         "x": [
          -0.37695159519563437,
          -0.6887756699085331,
          null
         ],
         "y": [
          0.6723337070926676,
          0.28427212851285444,
          null
         ]
        },
        {
         "hoverinfo": "none",
         "line": {
          "color": "#c762d4",
          "width": 1
         },
         "mode": "lines",
         "type": "scatter",
         "x": [
          -0.6887756699085331,
          -0.35188440007845434,
          null
         ],
         "y": [
          0.28427212851285444,
          -0.025098643764986012,
          null
         ]
        },
        {
         "hoverinfo": "none",
         "line": {
          "color": "#c762d4",
          "width": 1
         },
         "mode": "lines",
         "type": "scatter",
         "x": [
          -0.6887756699085331,
          -0.941420730029327,
          null
         ],
         "y": [
          0.28427212851285444,
          -0.07612309799457558,
          null
         ]
        },
        {
         "hoverinfo": "none",
         "line": {
          "color": "#c762d4",
          "width": 1
         },
         "mode": "lines",
         "type": "scatter",
         "x": [
          -0.941420730029327,
          -0.6255112638877318,
          null
         ],
         "y": [
          -0.07612309799457558,
          -0.3871539795658363,
          null
         ]
        },
        {
         "hoverinfo": "none",
         "line": {
          "color": "#c762d4",
          "width": 1
         },
         "mode": "lines",
         "type": "scatter",
         "x": [
          0.2577869591305434,
          0.6289071848422526,
          null
         ],
         "y": [
          0.7220910713614856,
          0.38642750641828305,
          null
         ]
        },
        {
         "hoverinfo": "none",
         "line": {
          "color": "#c762d4",
          "width": 1
         },
         "mode": "lines",
         "type": "scatter",
         "x": [
          0.2577869591305434,
          -0.03525829679579819,
          null
         ],
         "y": [
          0.7220910713614856,
          0.37471822615228,
          null
         ]
        },
        {
         "hoverinfo": "none",
         "line": {
          "color": "#c762d4",
          "width": 1
         },
         "mode": "lines",
         "type": "scatter",
         "x": [
          -0.03525829679579819,
          0.35105676934957963,
          null
         ],
         "y": [
          0.37471822615228,
          0.02740793190987964,
          null
         ]
        },
        {
         "hoverinfo": "none",
         "line": {
          "color": "#c762d4",
          "width": 1
         },
         "mode": "lines",
         "type": "scatter",
         "x": [
          -0.03525829679579819,
          -0.35188440007845434,
          null
         ],
         "y": [
          0.37471822615228,
          -0.025098643764986012,
          null
         ]
        },
        {
         "hoverinfo": "none",
         "line": {
          "color": "#c762d4",
          "width": 1
         },
         "mode": "lines",
         "type": "scatter",
         "x": [
          -0.35188440007845434,
          0.0333198997341849,
          null
         ],
         "y": [
          -0.025098643764986012,
          -0.37447282656203745,
          null
         ]
        },
        {
         "hoverinfo": "none",
         "line": {
          "color": "#c762d4",
          "width": 1
         },
         "mode": "lines",
         "type": "scatter",
         "x": [
          -0.35188440007845434,
          -0.6255112638877318,
          null
         ],
         "y": [
          -0.025098643764986012,
          -0.3871539795658363,
          null
         ]
        },
        {
         "hoverinfo": "none",
         "line": {
          "color": "#c762d4",
          "width": 1
         },
         "mode": "lines",
         "type": "scatter",
         "x": [
          -0.6255112638877318,
          -0.25517992338857753,
          null
         ],
         "y": [
          -0.3871539795658363,
          -0.7204779318018044,
          null
         ]
        },
        {
         "hoverinfo": "none",
         "line": {
          "color": "#c762d4",
          "width": 1
         },
         "mode": "lines",
         "type": "scatter",
         "x": [
          0.6289071848422526,
          0.941980175204065,
          null
         ],
         "y": [
          0.38642750641828305,
          0.07427502680909169,
          null
         ]
        },
        {
         "hoverinfo": "none",
         "line": {
          "color": "#c762d4",
          "width": 1
         },
         "mode": "lines",
         "type": "scatter",
         "x": [
          0.6289071848422526,
          0.35105676934957963,
          null
         ],
         "y": [
          0.38642750641828305,
          0.02740793190987964,
          null
         ]
        },
        {
         "hoverinfo": "none",
         "line": {
          "color": "#c762d4",
          "width": 1
         },
         "mode": "lines",
         "type": "scatter",
         "x": [
          0.35105676934957963,
          0.6845177676185029,
          null
         ],
         "y": [
          0.02740793190987964,
          -0.28395651237691877,
          null
         ]
        },
        {
         "hoverinfo": "none",
         "line": {
          "color": "#c762d4",
          "width": 1
         },
         "mode": "lines",
         "type": "scatter",
         "x": [
          0.35105676934957963,
          0.0333198997341849,
          null
         ],
         "y": [
          0.02740793190987964,
          -0.37447282656203745,
          null
         ]
        },
        {
         "hoverinfo": "none",
         "line": {
          "color": "#c762d4",
          "width": 1
         },
         "mode": "lines",
         "type": "scatter",
         "x": [
          0.0333198997341849,
          0.37783272723882116,
          null
         ],
         "y": [
          -0.37447282656203745,
          -0.673490677486337,
          null
         ]
        },
        {
         "hoverinfo": "none",
         "line": {
          "color": "#c762d4",
          "width": 1
         },
         "mode": "lines",
         "type": "scatter",
         "x": [
          0.0333198997341849,
          -0.25517992338857753,
          null
         ],
         "y": [
          -0.37447282656203745,
          -0.7204779318018044,
          null
         ]
        },
        {
         "hoverinfo": "none",
         "line": {
          "color": "#c762d4",
          "width": 1
         },
         "mode": "lines",
         "type": "scatter",
         "x": [
          -0.25517992338857753,
          0.08526980588376118,
          null
         ],
         "y": [
          -0.7204779318018044,
          -0.9999999999999999,
          null
         ]
        },
        {
         "hoverinfo": "none",
         "line": {
          "color": "#c762d4",
          "width": 1
         },
         "mode": "lines",
         "type": "scatter",
         "x": [
          0.941980175204065,
          0.6845177676185029,
          null
         ],
         "y": [
          0.07427502680909169,
          -0.28395651237691877,
          null
         ]
        },
        {
         "hoverinfo": "none",
         "line": {
          "color": "#c762d4",
          "width": 1
         },
         "mode": "lines",
         "type": "scatter",
         "x": [
          0.6845177676185029,
          0.37783272723882116,
          null
         ],
         "y": [
          -0.28395651237691877,
          -0.673490677486337,
          null
         ]
        },
        {
         "hoverinfo": "none",
         "line": {
          "color": "#c762d4",
          "width": 1
         },
         "mode": "lines",
         "type": "scatter",
         "x": [
          0.37783272723882116,
          0.08526980588376118,
          null
         ],
         "y": [
          -0.673490677486337,
          -0.9999999999999999,
          null
         ]
        },
        {
         "hoverinfo": "text",
         "marker": {
          "color": "#c762d4",
          "opacity": 0
         },
         "mode": "markers",
         "text": [
          "conductivity: 1.0<br>flow_rate: -0.5000000000000004<br>absorption: 0.1<br>uptake: 0.025031948671383013<br>peclet: -0.15915494309189548<br>length: 1.0<br>weight: 1.0<br>",
          "conductivity: 1.0<br>flow_rate: -0.5<br>absorption: 0.1<br>uptake: 0.02503194867138281<br>peclet: -0.15915494309189535<br>length: 1.0<br>weight: 1.0<br>",
          "conductivity: 1.0<br>flow_rate: -0.2142857142857145<br>absorption: 0.1<br>uptake: 0.01906040358930512<br>peclet: -0.06820926132509807<br>length: 1.0<br>weight: 1.0<br>",
          "conductivity: 1.0<br>flow_rate: -0.2857142857142862<br>absorption: 0.1<br>uptake: 0.018480064584447724<br>peclet: -0.09094568176679749<br>length: 1.0<br>weight: 1.0<br>",
          "conductivity: 1.0<br>flow_rate: -0.14285714285714254<br>absorption: 0.1<br>uptake: 0.014950239933261755<br>peclet: -0.04547284088339857<br>length: 1.0<br>weight: 1.0<br>",
          "conductivity: 1.0<br>flow_rate: -0.142857142857143<br>absorption: 0.1<br>uptake: 0.014908319666102685<br>peclet: -0.04547284088339871<br>length: 1.0<br>weight: 1.0<br>",
          "conductivity: 1.0<br>flow_rate: -0.1428571428571426<br>absorption: 0.1<br>uptake: 0.012732607124963952<br>peclet: -0.045472840883398584<br>length: 1.0<br>weight: 1.0<br>",
          "conductivity: 1.0<br>flow_rate: -0.28571428571428614<br>absorption: 0.1<br>uptake: 0.018480064584447717<br>peclet: -0.09094568176679747<br>length: 1.0<br>weight: 1.0<br>",
          "conductivity: 1.0<br>flow_rate: -0.2142857142857141<br>absorption: 0.1<br>uptake: 0.019060403589305115<br>peclet: -0.06820926132509794<br>length: 1.0<br>weight: 1.0<br>",
          "conductivity: 1.0<br>flow_rate: -0.21428571428571433<br>absorption: 0.1<br>uptake: 0.015557380829685902<br>peclet: -0.06820926132509801<br>length: 1.0<br>weight: 1.0<br>",
          "conductivity: 1.0<br>flow_rate: -0.21428571428571425<br>absorption: 0.1<br>uptake: 0.015557380829685902<br>peclet: -0.068209261325098<br>length: 1.0<br>weight: 1.0<br>",
          "conductivity: 1.0<br>flow_rate: -0.2142857142857143<br>absorption: 0.1<br>uptake: 0.012297959685886742<br>peclet: -0.06820926132509801<br>length: 1.0<br>weight: 1.0<br>",
          "conductivity: 1.0<br>flow_rate: -0.14285714285714304<br>absorption: 0.1<br>uptake: 0.012775167096446053<br>peclet: -0.04547284088339873<br>length: 1.0<br>weight: 1.0<br>",
          "conductivity: 1.0<br>flow_rate: -0.28571428571428564<br>absorption: 0.1<br>uptake: 0.009716771276005745<br>peclet: -0.09094568176679732<br>length: 1.0<br>weight: 1.0<br>",
          "conductivity: 1.0<br>flow_rate: -0.14285714285714277<br>absorption: 0.1<br>uptake: 0.01490831966610268<br>peclet: -0.04547284088339864<br>length: 1.0<br>weight: 1.0<br>",
          "conductivity: 1.0<br>flow_rate: -0.1428571428571423<br>absorption: 0.1<br>uptake: 0.014950239933262093<br>peclet: -0.04547284088339849<br>length: 1.0<br>weight: 1.0<br>",
          "conductivity: 1.0<br>flow_rate: -0.14285714285714282<br>absorption: 0.1<br>uptake: 0.01277516709644605<br>peclet: -0.04547284088339866<br>length: 1.0<br>weight: 1.0<br>",
          "conductivity: 1.0<br>flow_rate: -0.21428571428571422<br>absorption: 0.1<br>uptake: 0.01229795968588674<br>peclet: -0.06820926132509798<br>length: 1.0<br>weight: 1.0<br>",
          "conductivity: 1.0<br>flow_rate: -0.21428571428571433<br>absorption: 0.1<br>uptake: 0.00921684238257148<br>peclet: -0.06820926132509801<br>length: 1.0<br>weight: 1.0<br>",
          "conductivity: 1.0<br>flow_rate: -0.21428571428571438<br>absorption: 0.1<br>uptake: 0.009216842382571483<br>peclet: -0.06820926132509804<br>length: 1.0<br>weight: 1.0<br>",
          "conductivity: 1.0<br>flow_rate: -0.49999999999999994<br>absorption: 0.1<br>uptake: 0.0039385280856700485<br>peclet: -0.15915494309189532<br>length: 1.0<br>weight: 1.0<br>",
          "conductivity: 1.0<br>flow_rate: -0.14285714285714235<br>absorption: 0.1<br>uptake: 0.01273260712496395<br>peclet: -0.04547284088339851<br>length: 1.0<br>weight: 1.0<br>",
          "conductivity: 1.0<br>flow_rate: -0.2857142857142857<br>absorption: 0.1<br>uptake: 0.009716771276005747<br>peclet: -0.09094568176679733<br>length: 1.0<br>weight: 1.0<br>",
          "conductivity: 1.0<br>flow_rate: -0.5<br>absorption: 0.1<br>uptake: 0.003938528085670054<br>peclet: -0.15915494309189535<br>length: 1.0<br>weight: 1.0<br>"
         ],
         "type": "scatter",
         "x": [
          0.08604877470644508,
          -0.23132050245664382,
          -0.20610494599571627,
          -0.5328636325520837,
          -0.5203300349934937,
          -0.8150981999689301,
          -0.7834659969585294,
          0.443347071986398,
          0.1112643311673726,
          0.15789923627689073,
          -0.19357134843712626,
          -0.1592822501721347,
          -0.4886978319830931,
          -0.4403455936381547,
          0.7854436800231588,
          0.4899819770959161,
          0.5177872684840412,
          0.19218833454188228,
          0.20557631348650304,
          -0.11093001182719632,
          -0.08495505875240818,
          0.8132489714112839,
          0.5311752474286621,
          0.23155126656129116
         ],
         "y": [
          0.8606695713287194,
          0.8357908891943104,
          0.5235259666224739,
          0.478302917802761,
          0.12958674237393422,
          0.10407451525913944,
          -0.23163853878020593,
          0.5542592888898843,
          0.5484046487568828,
          0.20106307903107984,
          0.174809791193647,
          -0.19978573516351172,
          -0.20612631166541115,
          -0.5538159556838204,
          0.23035126661368738,
          0.20691771916408136,
          -0.12827429023351955,
          -0.17353244732607892,
          -0.5239817520241872,
          -0.5474753791819209,
          -0.8602389659009022,
          -0.10484074278391353,
          -0.47872359493162786,
          -0.8367453387431685
         ]
        }
       ],
       "layout": {
        "showlegend": false,
        "template": {
         "data": {
          "bar": [
           {
            "error_x": {
             "color": "#2a3f5f"
            },
            "error_y": {
             "color": "#2a3f5f"
            },
            "marker": {
             "line": {
              "color": "#E5ECF6",
              "width": 0.5
             }
            },
            "type": "bar"
           }
          ],
          "barpolar": [
           {
            "marker": {
             "line": {
              "color": "#E5ECF6",
              "width": 0.5
             }
            },
            "type": "barpolar"
           }
          ],
          "carpet": [
           {
            "aaxis": {
             "endlinecolor": "#2a3f5f",
             "gridcolor": "white",
             "linecolor": "white",
             "minorgridcolor": "white",
             "startlinecolor": "#2a3f5f"
            },
            "baxis": {
             "endlinecolor": "#2a3f5f",
             "gridcolor": "white",
             "linecolor": "white",
             "minorgridcolor": "white",
             "startlinecolor": "#2a3f5f"
            },
            "type": "carpet"
           }
          ],
          "choropleth": [
           {
            "colorbar": {
             "outlinewidth": 0,
             "ticks": ""
            },
            "type": "choropleth"
           }
          ],
          "contour": [
           {
            "colorbar": {
             "outlinewidth": 0,
             "ticks": ""
            },
            "colorscale": [
             [
              0,
              "#0d0887"
             ],
             [
              0.1111111111111111,
              "#46039f"
             ],
             [
              0.2222222222222222,
              "#7201a8"
             ],
             [
              0.3333333333333333,
              "#9c179e"
             ],
             [
              0.4444444444444444,
              "#bd3786"
             ],
             [
              0.5555555555555556,
              "#d8576b"
             ],
             [
              0.6666666666666666,
              "#ed7953"
             ],
             [
              0.7777777777777778,
              "#fb9f3a"
             ],
             [
              0.8888888888888888,
              "#fdca26"
             ],
             [
              1,
              "#f0f921"
             ]
            ],
            "type": "contour"
           }
          ],
          "contourcarpet": [
           {
            "colorbar": {
             "outlinewidth": 0,
             "ticks": ""
            },
            "type": "contourcarpet"
           }
          ],
          "heatmap": [
           {
            "colorbar": {
             "outlinewidth": 0,
             "ticks": ""
            },
            "colorscale": [
             [
              0,
              "#0d0887"
             ],
             [
              0.1111111111111111,
              "#46039f"
             ],
             [
              0.2222222222222222,
              "#7201a8"
             ],
             [
              0.3333333333333333,
              "#9c179e"
             ],
             [
              0.4444444444444444,
              "#bd3786"
             ],
             [
              0.5555555555555556,
              "#d8576b"
             ],
             [
              0.6666666666666666,
              "#ed7953"
             ],
             [
              0.7777777777777778,
              "#fb9f3a"
             ],
             [
              0.8888888888888888,
              "#fdca26"
             ],
             [
              1,
              "#f0f921"
             ]
            ],
            "type": "heatmap"
           }
          ],
          "heatmapgl": [
           {
            "colorbar": {
             "outlinewidth": 0,
             "ticks": ""
            },
            "colorscale": [
             [
              0,
              "#0d0887"
             ],
             [
              0.1111111111111111,
              "#46039f"
             ],
             [
              0.2222222222222222,
              "#7201a8"
             ],
             [
              0.3333333333333333,
              "#9c179e"
             ],
             [
              0.4444444444444444,
              "#bd3786"
             ],
             [
              0.5555555555555556,
              "#d8576b"
             ],
             [
              0.6666666666666666,
              "#ed7953"
             ],
             [
              0.7777777777777778,
              "#fb9f3a"
             ],
             [
              0.8888888888888888,
              "#fdca26"
             ],
             [
              1,
              "#f0f921"
             ]
            ],
            "type": "heatmapgl"
           }
          ],
          "histogram": [
           {
            "marker": {
             "colorbar": {
              "outlinewidth": 0,
              "ticks": ""
             }
            },
            "type": "histogram"
           }
          ],
          "histogram2d": [
           {
            "colorbar": {
             "outlinewidth": 0,
             "ticks": ""
            },
            "colorscale": [
             [
              0,
              "#0d0887"
             ],
             [
              0.1111111111111111,
              "#46039f"
             ],
             [
              0.2222222222222222,
              "#7201a8"
             ],
             [
              0.3333333333333333,
              "#9c179e"
             ],
             [
              0.4444444444444444,
              "#bd3786"
             ],
             [
              0.5555555555555556,
              "#d8576b"
             ],
             [
              0.6666666666666666,
              "#ed7953"
             ],
             [
              0.7777777777777778,
              "#fb9f3a"
             ],
             [
              0.8888888888888888,
              "#fdca26"
             ],
             [
              1,
              "#f0f921"
             ]
            ],
            "type": "histogram2d"
           }
          ],
          "histogram2dcontour": [
           {
            "colorbar": {
             "outlinewidth": 0,
             "ticks": ""
            },
            "colorscale": [
             [
              0,
              "#0d0887"
             ],
             [
              0.1111111111111111,
              "#46039f"
             ],
             [
              0.2222222222222222,
              "#7201a8"
             ],
             [
              0.3333333333333333,
              "#9c179e"
             ],
             [
              0.4444444444444444,
              "#bd3786"
             ],
             [
              0.5555555555555556,
              "#d8576b"
             ],
             [
              0.6666666666666666,
              "#ed7953"
             ],
             [
              0.7777777777777778,
              "#fb9f3a"
             ],
             [
              0.8888888888888888,
              "#fdca26"
             ],
             [
              1,
              "#f0f921"
             ]
            ],
            "type": "histogram2dcontour"
           }
          ],
          "mesh3d": [
           {
            "colorbar": {
             "outlinewidth": 0,
             "ticks": ""
            },
            "type": "mesh3d"
           }
          ],
          "parcoords": [
           {
            "line": {
             "colorbar": {
              "outlinewidth": 0,
              "ticks": ""
             }
            },
            "type": "parcoords"
           }
          ],
          "pie": [
           {
            "automargin": true,
            "type": "pie"
           }
          ],
          "scatter": [
           {
            "marker": {
             "colorbar": {
              "outlinewidth": 0,
              "ticks": ""
             }
            },
            "type": "scatter"
           }
          ],
          "scatter3d": [
           {
            "line": {
             "colorbar": {
              "outlinewidth": 0,
              "ticks": ""
             }
            },
            "marker": {
             "colorbar": {
              "outlinewidth": 0,
              "ticks": ""
             }
            },
            "type": "scatter3d"
           }
          ],
          "scattercarpet": [
           {
            "marker": {
             "colorbar": {
              "outlinewidth": 0,
              "ticks": ""
             }
            },
            "type": "scattercarpet"
           }
          ],
          "scattergeo": [
           {
            "marker": {
             "colorbar": {
              "outlinewidth": 0,
              "ticks": ""
             }
            },
            "type": "scattergeo"
           }
          ],
          "scattergl": [
           {
            "marker": {
             "colorbar": {
              "outlinewidth": 0,
              "ticks": ""
             }
            },
            "type": "scattergl"
           }
          ],
          "scattermapbox": [
           {
            "marker": {
             "colorbar": {
              "outlinewidth": 0,
              "ticks": ""
             }
            },
            "type": "scattermapbox"
           }
          ],
          "scatterpolar": [
           {
            "marker": {
             "colorbar": {
              "outlinewidth": 0,
              "ticks": ""
             }
            },
            "type": "scatterpolar"
           }
          ],
          "scatterpolargl": [
           {
            "marker": {
             "colorbar": {
              "outlinewidth": 0,
              "ticks": ""
             }
            },
            "type": "scatterpolargl"
           }
          ],
          "scatterternary": [
           {
            "marker": {
             "colorbar": {
              "outlinewidth": 0,
              "ticks": ""
             }
            },
            "type": "scatterternary"
           }
          ],
          "surface": [
           {
            "colorbar": {
             "outlinewidth": 0,
             "ticks": ""
            },
            "colorscale": [
             [
              0,
              "#0d0887"
             ],
             [
              0.1111111111111111,
              "#46039f"
             ],
             [
              0.2222222222222222,
              "#7201a8"
             ],
             [
              0.3333333333333333,
              "#9c179e"
             ],
             [
              0.4444444444444444,
              "#bd3786"
             ],
             [
              0.5555555555555556,
              "#d8576b"
             ],
             [
              0.6666666666666666,
              "#ed7953"
             ],
             [
              0.7777777777777778,
              "#fb9f3a"
             ],
             [
              0.8888888888888888,
              "#fdca26"
             ],
             [
              1,
              "#f0f921"
             ]
            ],
            "type": "surface"
           }
          ],
          "table": [
           {
            "cells": {
             "fill": {
              "color": "#EBF0F8"
             },
             "line": {
              "color": "white"
             }
            },
            "header": {
             "fill": {
              "color": "#C8D4E3"
             },
             "line": {
              "color": "white"
             }
            },
            "type": "table"
           }
          ]
         },
         "layout": {
          "annotationdefaults": {
           "arrowcolor": "#2a3f5f",
           "arrowhead": 0,
           "arrowwidth": 1
          },
          "autotypenumbers": "strict",
          "coloraxis": {
           "colorbar": {
            "outlinewidth": 0,
            "ticks": ""
           }
          },
          "colorscale": {
           "diverging": [
            [
             0,
             "#8e0152"
            ],
            [
             0.1,
             "#c51b7d"
            ],
            [
             0.2,
             "#de77ae"
            ],
            [
             0.3,
             "#f1b6da"
            ],
            [
             0.4,
             "#fde0ef"
            ],
            [
             0.5,
             "#f7f7f7"
            ],
            [
             0.6,
             "#e6f5d0"
            ],
            [
             0.7,
             "#b8e186"
            ],
            [
             0.8,
             "#7fbc41"
            ],
            [
             0.9,
             "#4d9221"
            ],
            [
             1,
             "#276419"
            ]
           ],
           "sequential": [
            [
             0,
             "#0d0887"
            ],
            [
             0.1111111111111111,
             "#46039f"
            ],
            [
             0.2222222222222222,
             "#7201a8"
            ],
            [
             0.3333333333333333,
             "#9c179e"
            ],
            [
             0.4444444444444444,
             "#bd3786"
            ],
            [
             0.5555555555555556,
             "#d8576b"
            ],
            [
             0.6666666666666666,
             "#ed7953"
            ],
            [
             0.7777777777777778,
             "#fb9f3a"
            ],
            [
             0.8888888888888888,
             "#fdca26"
            ],
            [
             1,
             "#f0f921"
            ]
           ],
           "sequentialminus": [
            [
             0,
             "#0d0887"
            ],
            [
             0.1111111111111111,
             "#46039f"
            ],
            [
             0.2222222222222222,
             "#7201a8"
            ],
            [
             0.3333333333333333,
             "#9c179e"
            ],
            [
             0.4444444444444444,
             "#bd3786"
            ],
            [
             0.5555555555555556,
             "#d8576b"
            ],
            [
             0.6666666666666666,
             "#ed7953"
            ],
            [
             0.7777777777777778,
             "#fb9f3a"
            ],
            [
             0.8888888888888888,
             "#fdca26"
            ],
            [
             1,
             "#f0f921"
            ]
           ]
          },
          "colorway": [
           "#636efa",
           "#EF553B",
           "#00cc96",
           "#ab63fa",
           "#FFA15A",
           "#19d3f3",
           "#FF6692",
           "#B6E880",
           "#FF97FF",
           "#FECB52"
          ],
          "font": {
           "color": "#2a3f5f"
          },
          "geo": {
           "bgcolor": "white",
           "lakecolor": "white",
           "landcolor": "#E5ECF6",
           "showlakes": true,
           "showland": true,
           "subunitcolor": "white"
          },
          "hoverlabel": {
           "align": "left"
          },
          "hovermode": "closest",
          "mapbox": {
           "style": "light"
          },
          "paper_bgcolor": "white",
          "plot_bgcolor": "#E5ECF6",
          "polar": {
           "angularaxis": {
            "gridcolor": "white",
            "linecolor": "white",
            "ticks": ""
           },
           "bgcolor": "#E5ECF6",
           "radialaxis": {
            "gridcolor": "white",
            "linecolor": "white",
            "ticks": ""
           }
          },
          "scene": {
           "xaxis": {
            "backgroundcolor": "#E5ECF6",
            "gridcolor": "white",
            "gridwidth": 2,
            "linecolor": "white",
            "showbackground": true,
            "ticks": "",
            "zerolinecolor": "white"
           },
           "yaxis": {
            "backgroundcolor": "#E5ECF6",
            "gridcolor": "white",
            "gridwidth": 2,
            "linecolor": "white",
            "showbackground": true,
            "ticks": "",
            "zerolinecolor": "white"
           },
           "zaxis": {
            "backgroundcolor": "#E5ECF6",
            "gridcolor": "white",
            "gridwidth": 2,
            "linecolor": "white",
            "showbackground": true,
            "ticks": "",
            "zerolinecolor": "white"
           }
          },
          "shapedefaults": {
           "line": {
            "color": "#2a3f5f"
           }
          },
          "ternary": {
           "aaxis": {
            "gridcolor": "white",
            "linecolor": "white",
            "ticks": ""
           },
           "baxis": {
            "gridcolor": "white",
            "linecolor": "white",
            "ticks": ""
           },
           "bgcolor": "#E5ECF6",
           "caxis": {
            "gridcolor": "white",
            "linecolor": "white",
            "ticks": ""
           }
          },
          "title": {
           "x": 0.05
          },
          "xaxis": {
           "automargin": true,
           "gridcolor": "white",
           "linecolor": "white",
           "ticks": "",
           "title": {
            "standoff": 15
           },
           "zerolinecolor": "white",
           "zerolinewidth": 2
          },
          "yaxis": {
           "automargin": true,
           "gridcolor": "white",
           "linecolor": "white",
           "ticks": "",
           "title": {
            "standoff": 15
           },
           "zerolinecolor": "white",
           "zerolinewidth": 2
          }
         }
        }
       }
      },
      "text/html": [
       "<div>                            <div id=\"bba07ecc-e5c1-446c-93d8-ad949c9729a9\" class=\"plotly-graph-div\" style=\"height:525px; width:100%;\"></div>            <script type=\"text/javascript\">                require([\"plotly\"], function(Plotly) {                    window.PLOTLYENV=window.PLOTLYENV || {};                                    if (document.getElementById(\"bba07ecc-e5c1-446c-93d8-ad949c9729a9\")) {                    Plotly.newPlot(                        \"bba07ecc-e5c1-446c-93d8-ad949c9729a9\",                        [{\"hoverinfo\": \"text\", \"hovertext\": [\"source: 1.0<br>solute: 1.0<br>concentration: 0.3701137868058443<br>\", \"source: 0.0<br>solute: 0.0<br>concentration: 0.2658851405365506<br>\", \"source: 0.0<br>solute: 0.0<br>concentration: 0.20476008336022328<br>\", \"source: 0.0<br>solute: 0.0<br>concentration: 0.17544573875173589<br>\", \"source: 0.0<br>solute: 0.0<br>concentration: 0.2658851405365506<br>\", \"source: 0.0<br>solute: 0.0<br>concentration: 0.21997327692492888<br>\", \"source: 0.0<br>solute: 0.0<br>concentration: 0.1765236144552877<br>\", \"source: 0.0<br>solute: 0.0<br>concentration: 0.14926436897925352<br>\", \"source: 0.0<br>solute: 0.0<br>concentration: 0.20476008336022322<br>\", \"source: 0.0<br>solute: 0.0<br>concentration: 0.1765236144552877<br>\", \"source: 0.0<br>solute: 0.0<br>concentration: 0.13684277254551197<br>\", \"source: 0.0<br>solute: 0.0<br>concentration: 0.09790871080152931<br>\", \"source: 0.0<br>solute: 0.0<br>concentration: 0.17544573875173586<br>\", \"source: 0.0<br>solute: 0.0<br>concentration: 0.14926436897925352<br>\", \"source: 0.0<br>solute: 0.0<br>concentration: 0.09790871080152931<br>\", \"source: -1.0<br>solute: -1.0<br>concentration: 0.0<br>\"], \"marker\": {\"color\": \"#a845b5\", \"line\": {\"width\": 2}, \"size\": 2}, \"mode\": \"markers\", \"type\": \"scatter\", \"x\": [-0.08568940971765324, -0.37695159519563437, -0.6887756699085331, -0.941420730029327, 0.2577869591305434, -0.03525829679579819, -0.35188440007845434, -0.6255112638877318, 0.6289071848422526, 0.35105676934957963, 0.0333198997341849, -0.25517992338857753, 0.941980175204065, 0.6845177676185029, 0.37783272723882116, 0.08526980588376118], \"y\": [0.9992480712959532, 0.6723337070926676, 0.28427212851285444, -0.07612309799457558, 0.7220910713614856, 0.37471822615228, -0.025098643764986012, -0.3871539795658363, 0.38642750641828305, 0.02740793190987964, -0.37447282656203745, -0.7204779318018044, 0.07427502680909169, -0.28395651237691877, -0.673490677486337, -0.9999999999999999]}, {\"hoverinfo\": \"none\", \"line\": {\"color\": \"#c762d4\", \"width\": 1.0}, \"mode\": \"lines\", \"type\": \"scatter\", \"x\": [-0.08568940971765324, 0.2577869591305434, null], \"y\": [0.9992480712959532, 0.7220910713614856, null]}, {\"hoverinfo\": \"none\", \"line\": {\"color\": \"#c762d4\", \"width\": 1.0}, \"mode\": \"lines\", \"type\": \"scatter\", \"x\": [-0.08568940971765324, -0.37695159519563437, null], \"y\": [0.9992480712959532, 0.6723337070926676, null]}, {\"hoverinfo\": \"none\", \"line\": {\"color\": \"#c762d4\", \"width\": 1.0}, \"mode\": \"lines\", \"type\": \"scatter\", \"x\": [-0.37695159519563437, -0.03525829679579819, null], \"y\": [0.6723337070926676, 0.37471822615228, null]}, {\"hoverinfo\": \"none\", \"line\": {\"color\": \"#c762d4\", \"width\": 1.0}, \"mode\": \"lines\", \"type\": \"scatter\", \"x\": [-0.37695159519563437, -0.6887756699085331, null], \"y\": [0.6723337070926676, 0.28427212851285444, null]}, {\"hoverinfo\": \"none\", \"line\": {\"color\": \"#c762d4\", \"width\": 1.0}, \"mode\": \"lines\", \"type\": \"scatter\", \"x\": [-0.6887756699085331, -0.35188440007845434, null], \"y\": [0.28427212851285444, -0.025098643764986012, null]}, {\"hoverinfo\": \"none\", \"line\": {\"color\": \"#c762d4\", \"width\": 1.0}, \"mode\": \"lines\", \"type\": \"scatter\", \"x\": [-0.6887756699085331, -0.941420730029327, null], \"y\": [0.28427212851285444, -0.07612309799457558, null]}, {\"hoverinfo\": \"none\", \"line\": {\"color\": \"#c762d4\", \"width\": 1.0}, \"mode\": \"lines\", \"type\": \"scatter\", \"x\": [-0.941420730029327, -0.6255112638877318, null], \"y\": [-0.07612309799457558, -0.3871539795658363, null]}, {\"hoverinfo\": \"none\", \"line\": {\"color\": \"#c762d4\", \"width\": 1.0}, \"mode\": \"lines\", \"type\": \"scatter\", \"x\": [0.2577869591305434, 0.6289071848422526, null], \"y\": [0.7220910713614856, 0.38642750641828305, null]}, {\"hoverinfo\": \"none\", \"line\": {\"color\": \"#c762d4\", \"width\": 1.0}, \"mode\": \"lines\", \"type\": \"scatter\", \"x\": [0.2577869591305434, -0.03525829679579819, null], \"y\": [0.7220910713614856, 0.37471822615228, null]}, {\"hoverinfo\": \"none\", \"line\": {\"color\": \"#c762d4\", \"width\": 1.0}, \"mode\": \"lines\", \"type\": \"scatter\", \"x\": [-0.03525829679579819, 0.35105676934957963, null], \"y\": [0.37471822615228, 0.02740793190987964, null]}, {\"hoverinfo\": \"none\", \"line\": {\"color\": \"#c762d4\", \"width\": 1.0}, \"mode\": \"lines\", \"type\": \"scatter\", \"x\": [-0.03525829679579819, -0.35188440007845434, null], \"y\": [0.37471822615228, -0.025098643764986012, null]}, {\"hoverinfo\": \"none\", \"line\": {\"color\": \"#c762d4\", \"width\": 1.0}, \"mode\": \"lines\", \"type\": \"scatter\", \"x\": [-0.35188440007845434, 0.0333198997341849, null], \"y\": [-0.025098643764986012, -0.37447282656203745, null]}, {\"hoverinfo\": \"none\", \"line\": {\"color\": \"#c762d4\", \"width\": 1.0}, \"mode\": \"lines\", \"type\": \"scatter\", \"x\": [-0.35188440007845434, -0.6255112638877318, null], \"y\": [-0.025098643764986012, -0.3871539795658363, null]}, {\"hoverinfo\": \"none\", \"line\": {\"color\": \"#c762d4\", \"width\": 1.0}, \"mode\": \"lines\", \"type\": \"scatter\", \"x\": [-0.6255112638877318, -0.25517992338857753, null], \"y\": [-0.3871539795658363, -0.7204779318018044, null]}, {\"hoverinfo\": \"none\", \"line\": {\"color\": \"#c762d4\", \"width\": 1.0}, \"mode\": \"lines\", \"type\": \"scatter\", \"x\": [0.6289071848422526, 0.941980175204065, null], \"y\": [0.38642750641828305, 0.07427502680909169, null]}, {\"hoverinfo\": \"none\", \"line\": {\"color\": \"#c762d4\", \"width\": 1.0}, \"mode\": \"lines\", \"type\": \"scatter\", \"x\": [0.6289071848422526, 0.35105676934957963, null], \"y\": [0.38642750641828305, 0.02740793190987964, null]}, {\"hoverinfo\": \"none\", \"line\": {\"color\": \"#c762d4\", \"width\": 1.0}, \"mode\": \"lines\", \"type\": \"scatter\", \"x\": [0.35105676934957963, 0.6845177676185029, null], \"y\": [0.02740793190987964, -0.28395651237691877, null]}, {\"hoverinfo\": \"none\", \"line\": {\"color\": \"#c762d4\", \"width\": 1.0}, \"mode\": \"lines\", \"type\": \"scatter\", \"x\": [0.35105676934957963, 0.0333198997341849, null], \"y\": [0.02740793190987964, -0.37447282656203745, null]}, {\"hoverinfo\": \"none\", \"line\": {\"color\": \"#c762d4\", \"width\": 1.0}, \"mode\": \"lines\", \"type\": \"scatter\", \"x\": [0.0333198997341849, 0.37783272723882116, null], \"y\": [-0.37447282656203745, -0.673490677486337, null]}, {\"hoverinfo\": \"none\", \"line\": {\"color\": \"#c762d4\", \"width\": 1.0}, \"mode\": \"lines\", \"type\": \"scatter\", \"x\": [0.0333198997341849, -0.25517992338857753, null], \"y\": [-0.37447282656203745, -0.7204779318018044, null]}, {\"hoverinfo\": \"none\", \"line\": {\"color\": \"#c762d4\", \"width\": 1.0}, \"mode\": \"lines\", \"type\": \"scatter\", \"x\": [-0.25517992338857753, 0.08526980588376118, null], \"y\": [-0.7204779318018044, -0.9999999999999999, null]}, {\"hoverinfo\": \"none\", \"line\": {\"color\": \"#c762d4\", \"width\": 1.0}, \"mode\": \"lines\", \"type\": \"scatter\", \"x\": [0.941980175204065, 0.6845177676185029, null], \"y\": [0.07427502680909169, -0.28395651237691877, null]}, {\"hoverinfo\": \"none\", \"line\": {\"color\": \"#c762d4\", \"width\": 1.0}, \"mode\": \"lines\", \"type\": \"scatter\", \"x\": [0.6845177676185029, 0.37783272723882116, null], \"y\": [-0.28395651237691877, -0.673490677486337, null]}, {\"hoverinfo\": \"none\", \"line\": {\"color\": \"#c762d4\", \"width\": 1.0}, \"mode\": \"lines\", \"type\": \"scatter\", \"x\": [0.37783272723882116, 0.08526980588376118, null], \"y\": [-0.673490677486337, -0.9999999999999999, null]}, {\"hoverinfo\": \"text\", \"marker\": {\"color\": \"#c762d4\", \"opacity\": 0}, \"mode\": \"markers\", \"text\": [\"conductivity: 1.0<br>flow_rate: -0.5000000000000004<br>absorption: 0.1<br>uptake: 0.025031948671383013<br>peclet: -0.15915494309189548<br>length: 1.0<br>weight: 1.0<br>\", \"conductivity: 1.0<br>flow_rate: -0.5<br>absorption: 0.1<br>uptake: 0.02503194867138281<br>peclet: -0.15915494309189535<br>length: 1.0<br>weight: 1.0<br>\", \"conductivity: 1.0<br>flow_rate: -0.2142857142857145<br>absorption: 0.1<br>uptake: 0.01906040358930512<br>peclet: -0.06820926132509807<br>length: 1.0<br>weight: 1.0<br>\", \"conductivity: 1.0<br>flow_rate: -0.2857142857142862<br>absorption: 0.1<br>uptake: 0.018480064584447724<br>peclet: -0.09094568176679749<br>length: 1.0<br>weight: 1.0<br>\", \"conductivity: 1.0<br>flow_rate: -0.14285714285714254<br>absorption: 0.1<br>uptake: 0.014950239933261755<br>peclet: -0.04547284088339857<br>length: 1.0<br>weight: 1.0<br>\", \"conductivity: 1.0<br>flow_rate: -0.142857142857143<br>absorption: 0.1<br>uptake: 0.014908319666102685<br>peclet: -0.04547284088339871<br>length: 1.0<br>weight: 1.0<br>\", \"conductivity: 1.0<br>flow_rate: -0.1428571428571426<br>absorption: 0.1<br>uptake: 0.012732607124963952<br>peclet: -0.045472840883398584<br>length: 1.0<br>weight: 1.0<br>\", \"conductivity: 1.0<br>flow_rate: -0.28571428571428614<br>absorption: 0.1<br>uptake: 0.018480064584447717<br>peclet: -0.09094568176679747<br>length: 1.0<br>weight: 1.0<br>\", \"conductivity: 1.0<br>flow_rate: -0.2142857142857141<br>absorption: 0.1<br>uptake: 0.019060403589305115<br>peclet: -0.06820926132509794<br>length: 1.0<br>weight: 1.0<br>\", \"conductivity: 1.0<br>flow_rate: -0.21428571428571433<br>absorption: 0.1<br>uptake: 0.015557380829685902<br>peclet: -0.06820926132509801<br>length: 1.0<br>weight: 1.0<br>\", \"conductivity: 1.0<br>flow_rate: -0.21428571428571425<br>absorption: 0.1<br>uptake: 0.015557380829685902<br>peclet: -0.068209261325098<br>length: 1.0<br>weight: 1.0<br>\", \"conductivity: 1.0<br>flow_rate: -0.2142857142857143<br>absorption: 0.1<br>uptake: 0.012297959685886742<br>peclet: -0.06820926132509801<br>length: 1.0<br>weight: 1.0<br>\", \"conductivity: 1.0<br>flow_rate: -0.14285714285714304<br>absorption: 0.1<br>uptake: 0.012775167096446053<br>peclet: -0.04547284088339873<br>length: 1.0<br>weight: 1.0<br>\", \"conductivity: 1.0<br>flow_rate: -0.28571428571428564<br>absorption: 0.1<br>uptake: 0.009716771276005745<br>peclet: -0.09094568176679732<br>length: 1.0<br>weight: 1.0<br>\", \"conductivity: 1.0<br>flow_rate: -0.14285714285714277<br>absorption: 0.1<br>uptake: 0.01490831966610268<br>peclet: -0.04547284088339864<br>length: 1.0<br>weight: 1.0<br>\", \"conductivity: 1.0<br>flow_rate: -0.1428571428571423<br>absorption: 0.1<br>uptake: 0.014950239933262093<br>peclet: -0.04547284088339849<br>length: 1.0<br>weight: 1.0<br>\", \"conductivity: 1.0<br>flow_rate: -0.14285714285714282<br>absorption: 0.1<br>uptake: 0.01277516709644605<br>peclet: -0.04547284088339866<br>length: 1.0<br>weight: 1.0<br>\", \"conductivity: 1.0<br>flow_rate: -0.21428571428571422<br>absorption: 0.1<br>uptake: 0.01229795968588674<br>peclet: -0.06820926132509798<br>length: 1.0<br>weight: 1.0<br>\", \"conductivity: 1.0<br>flow_rate: -0.21428571428571433<br>absorption: 0.1<br>uptake: 0.00921684238257148<br>peclet: -0.06820926132509801<br>length: 1.0<br>weight: 1.0<br>\", \"conductivity: 1.0<br>flow_rate: -0.21428571428571438<br>absorption: 0.1<br>uptake: 0.009216842382571483<br>peclet: -0.06820926132509804<br>length: 1.0<br>weight: 1.0<br>\", \"conductivity: 1.0<br>flow_rate: -0.49999999999999994<br>absorption: 0.1<br>uptake: 0.0039385280856700485<br>peclet: -0.15915494309189532<br>length: 1.0<br>weight: 1.0<br>\", \"conductivity: 1.0<br>flow_rate: -0.14285714285714235<br>absorption: 0.1<br>uptake: 0.01273260712496395<br>peclet: -0.04547284088339851<br>length: 1.0<br>weight: 1.0<br>\", \"conductivity: 1.0<br>flow_rate: -0.2857142857142857<br>absorption: 0.1<br>uptake: 0.009716771276005747<br>peclet: -0.09094568176679733<br>length: 1.0<br>weight: 1.0<br>\", \"conductivity: 1.0<br>flow_rate: -0.5<br>absorption: 0.1<br>uptake: 0.003938528085670054<br>peclet: -0.15915494309189535<br>length: 1.0<br>weight: 1.0<br>\"], \"type\": \"scatter\", \"x\": [0.08604877470644508, -0.23132050245664382, -0.20610494599571627, -0.5328636325520837, -0.5203300349934937, -0.8150981999689301, -0.7834659969585294, 0.443347071986398, 0.1112643311673726, 0.15789923627689073, -0.19357134843712626, -0.1592822501721347, -0.4886978319830931, -0.4403455936381547, 0.7854436800231588, 0.4899819770959161, 0.5177872684840412, 0.19218833454188228, 0.20557631348650304, -0.11093001182719632, -0.08495505875240818, 0.8132489714112839, 0.5311752474286621, 0.23155126656129116], \"y\": [0.8606695713287194, 0.8357908891943104, 0.5235259666224739, 0.478302917802761, 0.12958674237393422, 0.10407451525913944, -0.23163853878020593, 0.5542592888898843, 0.5484046487568828, 0.20106307903107984, 0.174809791193647, -0.19978573516351172, -0.20612631166541115, -0.5538159556838204, 0.23035126661368738, 0.20691771916408136, -0.12827429023351955, -0.17353244732607892, -0.5239817520241872, -0.5474753791819209, -0.8602389659009022, -0.10484074278391353, -0.47872359493162786, -0.8367453387431685]}],                        {\"showlegend\": false, \"template\": {\"data\": {\"bar\": [{\"error_x\": {\"color\": \"#2a3f5f\"}, \"error_y\": {\"color\": \"#2a3f5f\"}, \"marker\": {\"line\": {\"color\": \"#E5ECF6\", \"width\": 0.5}}, \"type\": \"bar\"}], \"barpolar\": [{\"marker\": {\"line\": {\"color\": \"#E5ECF6\", \"width\": 0.5}}, \"type\": \"barpolar\"}], \"carpet\": [{\"aaxis\": {\"endlinecolor\": \"#2a3f5f\", \"gridcolor\": \"white\", \"linecolor\": \"white\", \"minorgridcolor\": \"white\", \"startlinecolor\": \"#2a3f5f\"}, \"baxis\": {\"endlinecolor\": \"#2a3f5f\", \"gridcolor\": \"white\", \"linecolor\": \"white\", \"minorgridcolor\": \"white\", \"startlinecolor\": \"#2a3f5f\"}, \"type\": \"carpet\"}], \"choropleth\": [{\"colorbar\": {\"outlinewidth\": 0, \"ticks\": \"\"}, \"type\": \"choropleth\"}], \"contour\": [{\"colorbar\": {\"outlinewidth\": 0, \"ticks\": \"\"}, \"colorscale\": [[0.0, \"#0d0887\"], [0.1111111111111111, \"#46039f\"], [0.2222222222222222, \"#7201a8\"], [0.3333333333333333, \"#9c179e\"], [0.4444444444444444, \"#bd3786\"], [0.5555555555555556, \"#d8576b\"], [0.6666666666666666, \"#ed7953\"], [0.7777777777777778, \"#fb9f3a\"], [0.8888888888888888, \"#fdca26\"], [1.0, \"#f0f921\"]], \"type\": \"contour\"}], \"contourcarpet\": [{\"colorbar\": {\"outlinewidth\": 0, \"ticks\": \"\"}, \"type\": \"contourcarpet\"}], \"heatmap\": [{\"colorbar\": {\"outlinewidth\": 0, \"ticks\": \"\"}, \"colorscale\": [[0.0, \"#0d0887\"], [0.1111111111111111, \"#46039f\"], [0.2222222222222222, \"#7201a8\"], [0.3333333333333333, \"#9c179e\"], [0.4444444444444444, \"#bd3786\"], [0.5555555555555556, \"#d8576b\"], [0.6666666666666666, \"#ed7953\"], [0.7777777777777778, \"#fb9f3a\"], [0.8888888888888888, \"#fdca26\"], [1.0, \"#f0f921\"]], \"type\": \"heatmap\"}], \"heatmapgl\": [{\"colorbar\": {\"outlinewidth\": 0, \"ticks\": \"\"}, \"colorscale\": [[0.0, \"#0d0887\"], [0.1111111111111111, \"#46039f\"], [0.2222222222222222, \"#7201a8\"], [0.3333333333333333, \"#9c179e\"], [0.4444444444444444, \"#bd3786\"], [0.5555555555555556, \"#d8576b\"], [0.6666666666666666, \"#ed7953\"], [0.7777777777777778, \"#fb9f3a\"], [0.8888888888888888, \"#fdca26\"], [1.0, \"#f0f921\"]], \"type\": \"heatmapgl\"}], \"histogram\": [{\"marker\": {\"colorbar\": {\"outlinewidth\": 0, \"ticks\": \"\"}}, \"type\": \"histogram\"}], \"histogram2d\": [{\"colorbar\": {\"outlinewidth\": 0, \"ticks\": \"\"}, \"colorscale\": [[0.0, \"#0d0887\"], [0.1111111111111111, \"#46039f\"], [0.2222222222222222, \"#7201a8\"], [0.3333333333333333, \"#9c179e\"], [0.4444444444444444, \"#bd3786\"], [0.5555555555555556, \"#d8576b\"], [0.6666666666666666, \"#ed7953\"], [0.7777777777777778, \"#fb9f3a\"], [0.8888888888888888, \"#fdca26\"], [1.0, \"#f0f921\"]], \"type\": \"histogram2d\"}], \"histogram2dcontour\": [{\"colorbar\": {\"outlinewidth\": 0, \"ticks\": \"\"}, \"colorscale\": [[0.0, \"#0d0887\"], [0.1111111111111111, \"#46039f\"], [0.2222222222222222, \"#7201a8\"], [0.3333333333333333, \"#9c179e\"], [0.4444444444444444, \"#bd3786\"], [0.5555555555555556, \"#d8576b\"], [0.6666666666666666, \"#ed7953\"], [0.7777777777777778, \"#fb9f3a\"], [0.8888888888888888, \"#fdca26\"], [1.0, \"#f0f921\"]], \"type\": \"histogram2dcontour\"}], \"mesh3d\": [{\"colorbar\": {\"outlinewidth\": 0, \"ticks\": \"\"}, \"type\": \"mesh3d\"}], \"parcoords\": [{\"line\": {\"colorbar\": {\"outlinewidth\": 0, \"ticks\": \"\"}}, \"type\": \"parcoords\"}], \"pie\": [{\"automargin\": true, \"type\": \"pie\"}], \"scatter\": [{\"marker\": {\"colorbar\": {\"outlinewidth\": 0, \"ticks\": \"\"}}, \"type\": \"scatter\"}], \"scatter3d\": [{\"line\": {\"colorbar\": {\"outlinewidth\": 0, \"ticks\": \"\"}}, \"marker\": {\"colorbar\": {\"outlinewidth\": 0, \"ticks\": \"\"}}, \"type\": \"scatter3d\"}], \"scattercarpet\": [{\"marker\": {\"colorbar\": {\"outlinewidth\": 0, \"ticks\": \"\"}}, \"type\": \"scattercarpet\"}], \"scattergeo\": [{\"marker\": {\"colorbar\": {\"outlinewidth\": 0, \"ticks\": \"\"}}, \"type\": \"scattergeo\"}], \"scattergl\": [{\"marker\": {\"colorbar\": {\"outlinewidth\": 0, \"ticks\": \"\"}}, \"type\": \"scattergl\"}], \"scattermapbox\": [{\"marker\": {\"colorbar\": {\"outlinewidth\": 0, \"ticks\": \"\"}}, \"type\": \"scattermapbox\"}], \"scatterpolar\": [{\"marker\": {\"colorbar\": {\"outlinewidth\": 0, \"ticks\": \"\"}}, \"type\": \"scatterpolar\"}], \"scatterpolargl\": [{\"marker\": {\"colorbar\": {\"outlinewidth\": 0, \"ticks\": \"\"}}, \"type\": \"scatterpolargl\"}], \"scatterternary\": [{\"marker\": {\"colorbar\": {\"outlinewidth\": 0, \"ticks\": \"\"}}, \"type\": \"scatterternary\"}], \"surface\": [{\"colorbar\": {\"outlinewidth\": 0, \"ticks\": \"\"}, \"colorscale\": [[0.0, \"#0d0887\"], [0.1111111111111111, \"#46039f\"], [0.2222222222222222, \"#7201a8\"], [0.3333333333333333, \"#9c179e\"], [0.4444444444444444, \"#bd3786\"], [0.5555555555555556, \"#d8576b\"], [0.6666666666666666, \"#ed7953\"], [0.7777777777777778, \"#fb9f3a\"], [0.8888888888888888, \"#fdca26\"], [1.0, \"#f0f921\"]], \"type\": \"surface\"}], \"table\": [{\"cells\": {\"fill\": {\"color\": \"#EBF0F8\"}, \"line\": {\"color\": \"white\"}}, \"header\": {\"fill\": {\"color\": \"#C8D4E3\"}, \"line\": {\"color\": \"white\"}}, \"type\": \"table\"}]}, \"layout\": {\"annotationdefaults\": {\"arrowcolor\": \"#2a3f5f\", \"arrowhead\": 0, \"arrowwidth\": 1}, \"autotypenumbers\": \"strict\", \"coloraxis\": {\"colorbar\": {\"outlinewidth\": 0, \"ticks\": \"\"}}, \"colorscale\": {\"diverging\": [[0, \"#8e0152\"], [0.1, \"#c51b7d\"], [0.2, \"#de77ae\"], [0.3, \"#f1b6da\"], [0.4, \"#fde0ef\"], [0.5, \"#f7f7f7\"], [0.6, \"#e6f5d0\"], [0.7, \"#b8e186\"], [0.8, \"#7fbc41\"], [0.9, \"#4d9221\"], [1, \"#276419\"]], \"sequential\": [[0.0, \"#0d0887\"], [0.1111111111111111, \"#46039f\"], [0.2222222222222222, \"#7201a8\"], [0.3333333333333333, \"#9c179e\"], [0.4444444444444444, \"#bd3786\"], [0.5555555555555556, \"#d8576b\"], [0.6666666666666666, \"#ed7953\"], [0.7777777777777778, \"#fb9f3a\"], [0.8888888888888888, \"#fdca26\"], [1.0, \"#f0f921\"]], \"sequentialminus\": [[0.0, \"#0d0887\"], [0.1111111111111111, \"#46039f\"], [0.2222222222222222, \"#7201a8\"], [0.3333333333333333, \"#9c179e\"], [0.4444444444444444, \"#bd3786\"], [0.5555555555555556, \"#d8576b\"], [0.6666666666666666, \"#ed7953\"], [0.7777777777777778, \"#fb9f3a\"], [0.8888888888888888, \"#fdca26\"], [1.0, \"#f0f921\"]]}, \"colorway\": [\"#636efa\", \"#EF553B\", \"#00cc96\", \"#ab63fa\", \"#FFA15A\", \"#19d3f3\", \"#FF6692\", \"#B6E880\", \"#FF97FF\", \"#FECB52\"], \"font\": {\"color\": \"#2a3f5f\"}, \"geo\": {\"bgcolor\": \"white\", \"lakecolor\": \"white\", \"landcolor\": \"#E5ECF6\", \"showlakes\": true, \"showland\": true, \"subunitcolor\": \"white\"}, \"hoverlabel\": {\"align\": \"left\"}, \"hovermode\": \"closest\", \"mapbox\": {\"style\": \"light\"}, \"paper_bgcolor\": \"white\", \"plot_bgcolor\": \"#E5ECF6\", \"polar\": {\"angularaxis\": {\"gridcolor\": \"white\", \"linecolor\": \"white\", \"ticks\": \"\"}, \"bgcolor\": \"#E5ECF6\", \"radialaxis\": {\"gridcolor\": \"white\", \"linecolor\": \"white\", \"ticks\": \"\"}}, \"scene\": {\"xaxis\": {\"backgroundcolor\": \"#E5ECF6\", \"gridcolor\": \"white\", \"gridwidth\": 2, \"linecolor\": \"white\", \"showbackground\": true, \"ticks\": \"\", \"zerolinecolor\": \"white\"}, \"yaxis\": {\"backgroundcolor\": \"#E5ECF6\", \"gridcolor\": \"white\", \"gridwidth\": 2, \"linecolor\": \"white\", \"showbackground\": true, \"ticks\": \"\", \"zerolinecolor\": \"white\"}, \"zaxis\": {\"backgroundcolor\": \"#E5ECF6\", \"gridcolor\": \"white\", \"gridwidth\": 2, \"linecolor\": \"white\", \"showbackground\": true, \"ticks\": \"\", \"zerolinecolor\": \"white\"}}, \"shapedefaults\": {\"line\": {\"color\": \"#2a3f5f\"}}, \"ternary\": {\"aaxis\": {\"gridcolor\": \"white\", \"linecolor\": \"white\", \"ticks\": \"\"}, \"baxis\": {\"gridcolor\": \"white\", \"linecolor\": \"white\", \"ticks\": \"\"}, \"bgcolor\": \"#E5ECF6\", \"caxis\": {\"gridcolor\": \"white\", \"linecolor\": \"white\", \"ticks\": \"\"}}, \"title\": {\"x\": 0.05}, \"xaxis\": {\"automargin\": true, \"gridcolor\": \"white\", \"linecolor\": \"white\", \"ticks\": \"\", \"title\": {\"standoff\": 15}, \"zerolinecolor\": \"white\", \"zerolinewidth\": 2}, \"yaxis\": {\"automargin\": true, \"gridcolor\": \"white\", \"linecolor\": \"white\", \"ticks\": \"\", \"title\": {\"standoff\": 15}, \"zerolinecolor\": \"white\", \"zerolinewidth\": 2}}}},                        {\"responsive\": true}                    ).then(function(){\n",
       "                            \n",
       "var gd = document.getElementById('bba07ecc-e5c1-446c-93d8-ad949c9729a9');\n",
       "var x = new MutationObserver(function (mutations, observer) {{\n",
       "        var display = window.getComputedStyle(gd).display;\n",
       "        if (!display || display === 'none') {{\n",
       "            console.log([gd, 'removed!']);\n",
       "            Plotly.purge(gd);\n",
       "            observer.disconnect();\n",
       "        }}\n",
       "}});\n",
       "\n",
       "// Listen for the removal of the full notebook cells\n",
       "var notebookContainer = gd.closest('#notebook-container');\n",
       "if (notebookContainer) {{\n",
       "    x.observe(notebookContainer, {childList: true});\n",
       "}}\n",
       "\n",
       "// Listen for the clearing of the current output cell\n",
       "var outputEl = gd.closest('.output');\n",
       "if (outputEl) {{\n",
       "    x.observe(outputEl, {childList: true});\n",
       "}}\n",
       "\n",
       "                        })                };                });            </script>        </div>"
      ]
     },
     "metadata": {},
     "output_type": "display_data"
    }
   ],
   "source": [
    "n=4\n",
    "m=4\n",
    "pars={\n",
    "    'plexus':nx.grid_graph(( m,n,1)),\n",
    "    'absorption':0.1,\n",
    "    'diffusion':1.\n",
    "}\n",
    "circuit=kfx.setup_default_flux_circuit(pars)\n",
    "overflow=ho.initialize_overflow_on_circuit(circuit)\n",
    "c,B_new=overflow.calc_profile_concentration()\n",
    "phi=overflow.calc_absorption()\n",
    "\n",
    "fig=overflow.circuit.plot_circuit()\n",
    "fig.show()"
   ]
  },
  {
   "cell_type": "code",
   "execution_count": 19,
   "metadata": {},
   "outputs": [
    {
     "data": {
      "text/plain": [
       "Text(0, 0.5, '$\\\\Phi$')"
      ]
     },
     "execution_count": 19,
     "metadata": {},
     "output_type": "execute_result"
    },
    {
     "data": {
      "image/png": "[encoded data removed]",
      "text/plain": [
       "<Figure size 432x288 with 2 Axes>"
      ]
     },
     "metadata": {
      "needs_background": "light"
     },
     "output_type": "display_data"
    }
   ],
   "source": [
    "fig, ax=plt.subplots(2,1)\n",
    "ax[0].scatter(overflow.circuit.list_graph_nodes,overflow.circuit.nodes['concentration'])\n",
    "ax[0].set_xlabel('nodes')\n",
    "ax[0].set_ylabel(r'$C$')\n",
    "plt.subplots_adjust(hspace=0.4)\n",
    "ax[1].scatter([i for i,e in enumerate(overflow.circuit.list_graph_edges)],overflow.circuit.edges['uptake'])\n",
    "ax[1].set_xlabel('edges')\n",
    "ax[1].set_ylabel(r'$\\Phi$')"
   ]
  },
  {
   "cell_type": "code",
   "execution_count": null,
   "metadata": {},
   "outputs": [],
   "source": []
  }
 ],
 "metadata": {
  "kernelspec": {
   "display_name": "Python 3",
   "language": "python",
   "name": "python3"
  },
  "language_info": {
   "codemirror_mode": {
    "name": "ipython",
    "version": 3
   },
   "file_extension": ".py",
   "mimetype": "text/x-python",
   "name": "python",
   "nbconvert_exporter": "python",
   "pygments_lexer": "ipython3",
   "version": "3.7.3"
  }
 },
 "nbformat": 4,
 "nbformat_minor": 4
}
